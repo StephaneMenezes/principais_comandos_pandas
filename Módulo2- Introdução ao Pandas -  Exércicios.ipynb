{
 "cells": [
  {
   "cell_type": "markdown",
   "id": "776fa08f",
   "metadata": {},
   "source": [
    "## Exercício 1\n",
    "\n",
    "* Importar o pacote Pandas\n",
    "* importar os dados de ocorrências da aviação civil neste link\n",
    "* Ver qual o tamanho (linhas x colunas) do *DataFrame*\n",
    "* Verificar as 5 primeiras \n",
    "\n"
   ]
  },
  {
   "cell_type": "code",
   "execution_count": 5,
   "id": "22952bc9",
   "metadata": {},
   "outputs": [],
   "source": [
    "#Importando o pacote Pandas\n",
    "import pandas as pd\n",
    "\n",
    "#Importando os dados de ocorrência da aviação civil neste link\n",
    "df=pd.read_csv(\"https://raw.githubusercontent.com/carlosfab/curso_data_science_na_pratica/master/modulo_02/ocorrencias_aviacao.csv\")\n"
   ]
  },
  {
   "cell_type": "code",
   "execution_count": 7,
   "id": "720d82aa",
   "metadata": {},
   "outputs": [
    {
     "data": {
      "text/plain": [
       "(5208, 22)"
      ]
     },
     "execution_count": 7,
     "metadata": {},
     "output_type": "execute_result"
    }
   ],
   "source": [
    "#Usando o comando shape para verificar o tamanho das colunas e linhas do meu DF\n",
    "df.shape"
   ]
  },
  {
   "cell_type": "code",
   "execution_count": 8,
   "id": "dd523caf",
   "metadata": {
    "collapsed": true
   },
   "outputs": [
    {
     "data": {
      "text/html": [
       "<div>\n",
       "<style scoped>\n",
       "    .dataframe tbody tr th:only-of-type {\n",
       "        vertical-align: middle;\n",
       "    }\n",
       "\n",
       "    .dataframe tbody tr th {\n",
       "        vertical-align: top;\n",
       "    }\n",
       "\n",
       "    .dataframe thead th {\n",
       "        text-align: right;\n",
       "    }\n",
       "</style>\n",
       "<table border=\"1\" class=\"dataframe\">\n",
       "  <thead>\n",
       "    <tr style=\"text-align: right;\">\n",
       "      <th></th>\n",
       "      <th>codigo_ocorrencia</th>\n",
       "      <th>ocorrencia_classificacao</th>\n",
       "      <th>ocorrencia_tipo</th>\n",
       "      <th>ocorrencia_tipo_categoria</th>\n",
       "      <th>ocorrencia_tipo_icao</th>\n",
       "      <th>ocorrencia_latitude</th>\n",
       "      <th>ocorrencia_longitude</th>\n",
       "      <th>ocorrencia_cidade</th>\n",
       "      <th>ocorrencia_uf</th>\n",
       "      <th>ocorrencia_pais</th>\n",
       "      <th>...</th>\n",
       "      <th>ocorrencia_horario</th>\n",
       "      <th>investigacao_aeronave_liberada</th>\n",
       "      <th>investigacao_status</th>\n",
       "      <th>divulgacao_relatorio_numero</th>\n",
       "      <th>divulgacao_relatorio_publicado</th>\n",
       "      <th>divulgacao_dia_publicacao</th>\n",
       "      <th>total_recomendacoes</th>\n",
       "      <th>total_aeronaves_envolvidas</th>\n",
       "      <th>ocorrencia_saida_pista</th>\n",
       "      <th>ocorrencia_dia_extracao</th>\n",
       "    </tr>\n",
       "  </thead>\n",
       "  <tbody>\n",
       "    <tr>\n",
       "      <th>0</th>\n",
       "      <td>201305055424986</td>\n",
       "      <td>ACIDENTE</td>\n",
       "      <td>FALHA DO MOTOR EM VOO</td>\n",
       "      <td>FALHA OU MAU FUNCIONAMENTO DO MOTOR</td>\n",
       "      <td>SCF-PP</td>\n",
       "      <td>-9.9085</td>\n",
       "      <td>-63.0333</td>\n",
       "      <td>ARIQUEMES</td>\n",
       "      <td>RO</td>\n",
       "      <td>BRASIL</td>\n",
       "      <td>...</td>\n",
       "      <td>11:00:00</td>\n",
       "      <td>NaN</td>\n",
       "      <td>FINALIZADA</td>\n",
       "      <td>***</td>\n",
       "      <td>NÃO</td>\n",
       "      <td>NaN</td>\n",
       "      <td>0</td>\n",
       "      <td>1</td>\n",
       "      <td>NÃO</td>\n",
       "      <td>2018-08-28</td>\n",
       "    </tr>\n",
       "    <tr>\n",
       "      <th>1</th>\n",
       "      <td>201605160250139</td>\n",
       "      <td>INCIDENTE GRAVE</td>\n",
       "      <td>COLISÃO COM OBSTÁCULO DURANTE A DECOLAGEM E POUSO</td>\n",
       "      <td>COLISÃO COM OBSTÁCULO DURANTE A DECOLAGEM E POUSO</td>\n",
       "      <td>CTOL</td>\n",
       "      <td>-11.2644</td>\n",
       "      <td>-61.2589</td>\n",
       "      <td>CACOAL</td>\n",
       "      <td>RO</td>\n",
       "      <td>BRASIL</td>\n",
       "      <td>...</td>\n",
       "      <td>19:19:00</td>\n",
       "      <td>SIM</td>\n",
       "      <td>ATIVA</td>\n",
       "      <td>IG-084/CENIPA/2016</td>\n",
       "      <td>NÃO</td>\n",
       "      <td>NaN</td>\n",
       "      <td>0</td>\n",
       "      <td>1</td>\n",
       "      <td>NÃO</td>\n",
       "      <td>2018-08-28</td>\n",
       "    </tr>\n",
       "    <tr>\n",
       "      <th>2</th>\n",
       "      <td>201805021421302</td>\n",
       "      <td>INCIDENTE</td>\n",
       "      <td>AERÓDROMO</td>\n",
       "      <td>AERÓDROMO</td>\n",
       "      <td>ADRM</td>\n",
       "      <td>-11.4956</td>\n",
       "      <td>-61.4508</td>\n",
       "      <td>CACOAL</td>\n",
       "      <td>RO</td>\n",
       "      <td>BRASIL</td>\n",
       "      <td>...</td>\n",
       "      <td>22:40:00</td>\n",
       "      <td>SIM</td>\n",
       "      <td>FINALIZADA</td>\n",
       "      <td>***</td>\n",
       "      <td>NÃO</td>\n",
       "      <td>NaN</td>\n",
       "      <td>0</td>\n",
       "      <td>1</td>\n",
       "      <td>NÃO</td>\n",
       "      <td>2018-08-28</td>\n",
       "    </tr>\n",
       "    <tr>\n",
       "      <th>3</th>\n",
       "      <td>201311259977425</td>\n",
       "      <td>INCIDENTE GRAVE</td>\n",
       "      <td>POUSO SEM TREM</td>\n",
       "      <td>CONTATO ANORMAL COM A PISTA</td>\n",
       "      <td>ARC</td>\n",
       "      <td>-11.4956</td>\n",
       "      <td>-61.4508</td>\n",
       "      <td>CACOAL</td>\n",
       "      <td>RO</td>\n",
       "      <td>BRASIL</td>\n",
       "      <td>...</td>\n",
       "      <td>12:32:00</td>\n",
       "      <td>NaN</td>\n",
       "      <td>FINALIZADA</td>\n",
       "      <td>IG-209/CENIPA/2013</td>\n",
       "      <td>SIM</td>\n",
       "      <td>2014-04-07</td>\n",
       "      <td>0</td>\n",
       "      <td>1</td>\n",
       "      <td>NÃO</td>\n",
       "      <td>2018-08-28</td>\n",
       "    </tr>\n",
       "    <tr>\n",
       "      <th>4</th>\n",
       "      <td>201103187273112</td>\n",
       "      <td>INCIDENTE</td>\n",
       "      <td>OUTROS</td>\n",
       "      <td>OUTROS</td>\n",
       "      <td>OTHR</td>\n",
       "      <td>-13.1950</td>\n",
       "      <td>-60.8184</td>\n",
       "      <td>CEREJEIRAS</td>\n",
       "      <td>RO</td>\n",
       "      <td>BRASIL</td>\n",
       "      <td>...</td>\n",
       "      <td>13:30:00</td>\n",
       "      <td>NaN</td>\n",
       "      <td>FINALIZADA</td>\n",
       "      <td>***</td>\n",
       "      <td>NÃO</td>\n",
       "      <td>NaN</td>\n",
       "      <td>0</td>\n",
       "      <td>1</td>\n",
       "      <td>NÃO</td>\n",
       "      <td>2018-08-28</td>\n",
       "    </tr>\n",
       "  </tbody>\n",
       "</table>\n",
       "<p>5 rows × 22 columns</p>\n",
       "</div>"
      ],
      "text/plain": [
       "   codigo_ocorrencia ocorrencia_classificacao  \\\n",
       "0    201305055424986                 ACIDENTE   \n",
       "1    201605160250139          INCIDENTE GRAVE   \n",
       "2    201805021421302                INCIDENTE   \n",
       "3    201311259977425          INCIDENTE GRAVE   \n",
       "4    201103187273112                INCIDENTE   \n",
       "\n",
       "                                     ocorrencia_tipo  \\\n",
       "0                              FALHA DO MOTOR EM VOO   \n",
       "1  COLISÃO COM OBSTÁCULO DURANTE A DECOLAGEM E POUSO   \n",
       "2                                          AERÓDROMO   \n",
       "3                                     POUSO SEM TREM   \n",
       "4                                             OUTROS   \n",
       "\n",
       "                           ocorrencia_tipo_categoria ocorrencia_tipo_icao  \\\n",
       "0                FALHA OU MAU FUNCIONAMENTO DO MOTOR               SCF-PP   \n",
       "1  COLISÃO COM OBSTÁCULO DURANTE A DECOLAGEM E POUSO                 CTOL   \n",
       "2                                          AERÓDROMO                 ADRM   \n",
       "3                        CONTATO ANORMAL COM A PISTA                  ARC   \n",
       "4                                             OUTROS                 OTHR   \n",
       "\n",
       "   ocorrencia_latitude  ocorrencia_longitude ocorrencia_cidade ocorrencia_uf  \\\n",
       "0              -9.9085              -63.0333         ARIQUEMES            RO   \n",
       "1             -11.2644              -61.2589            CACOAL            RO   \n",
       "2             -11.4956              -61.4508            CACOAL            RO   \n",
       "3             -11.4956              -61.4508            CACOAL            RO   \n",
       "4             -13.1950              -60.8184        CEREJEIRAS            RO   \n",
       "\n",
       "  ocorrencia_pais  ... ocorrencia_horario investigacao_aeronave_liberada  \\\n",
       "0          BRASIL  ...           11:00:00                            NaN   \n",
       "1          BRASIL  ...           19:19:00                            SIM   \n",
       "2          BRASIL  ...           22:40:00                            SIM   \n",
       "3          BRASIL  ...           12:32:00                            NaN   \n",
       "4          BRASIL  ...           13:30:00                            NaN   \n",
       "\n",
       "  investigacao_status divulgacao_relatorio_numero  \\\n",
       "0          FINALIZADA                         ***   \n",
       "1               ATIVA          IG-084/CENIPA/2016   \n",
       "2          FINALIZADA                         ***   \n",
       "3          FINALIZADA          IG-209/CENIPA/2013   \n",
       "4          FINALIZADA                         ***   \n",
       "\n",
       "  divulgacao_relatorio_publicado divulgacao_dia_publicacao  \\\n",
       "0                            NÃO                       NaN   \n",
       "1                            NÃO                       NaN   \n",
       "2                            NÃO                       NaN   \n",
       "3                            SIM                2014-04-07   \n",
       "4                            NÃO                       NaN   \n",
       "\n",
       "  total_recomendacoes total_aeronaves_envolvidas  ocorrencia_saida_pista  \\\n",
       "0                   0                          1                     NÃO   \n",
       "1                   0                          1                     NÃO   \n",
       "2                   0                          1                     NÃO   \n",
       "3                   0                          1                     NÃO   \n",
       "4                   0                          1                     NÃO   \n",
       "\n",
       "   ocorrencia_dia_extracao  \n",
       "0               2018-08-28  \n",
       "1               2018-08-28  \n",
       "2               2018-08-28  \n",
       "3               2018-08-28  \n",
       "4               2018-08-28  \n",
       "\n",
       "[5 rows x 22 columns]"
      ]
     },
     "execution_count": 8,
     "metadata": {},
     "output_type": "execute_result"
    }
   ],
   "source": [
    "#Verificando as primeiras 5 linhas\n",
    "df.head()"
   ]
  },
  {
   "cell_type": "markdown",
   "id": "3d5a92b0",
   "metadata": {},
   "source": [
    "**Identifique o tipo de cada coluna (inteiro, float, object).**"
   ]
  },
  {
   "cell_type": "code",
   "execution_count": 12,
   "id": "3f667535",
   "metadata": {
    "collapsed": true
   },
   "outputs": [
    {
     "data": {
      "text/plain": [
       "codigo_ocorrencia                   int64\n",
       "ocorrencia_classificacao           object\n",
       "ocorrencia_tipo                    object\n",
       "ocorrencia_tipo_categoria          object\n",
       "ocorrencia_tipo_icao               object\n",
       "ocorrencia_latitude               float64\n",
       "ocorrencia_longitude              float64\n",
       "ocorrencia_cidade                  object\n",
       "ocorrencia_uf                      object\n",
       "ocorrencia_pais                    object\n",
       "ocorrencia_aerodromo               object\n",
       "ocorrencia_dia                     object\n",
       "ocorrencia_horario                 object\n",
       "investigacao_aeronave_liberada     object\n",
       "investigacao_status                object\n",
       "divulgacao_relatorio_numero        object\n",
       "divulgacao_relatorio_publicado     object\n",
       "divulgacao_dia_publicacao          object\n",
       "total_recomendacoes                 int64\n",
       "total_aeronaves_envolvidas          int64\n",
       "ocorrencia_saida_pista             object\n",
       "ocorrencia_dia_extracao            object\n",
       "dtype: object"
      ]
     },
     "execution_count": 12,
     "metadata": {},
     "output_type": "execute_result"
    }
   ],
   "source": [
    "#Usando o dtypes para verificar os tipos das colunas:\n",
    "df.dtypes"
   ]
  },
  {
   "cell_type": "markdown",
   "id": "c911c543",
   "metadata": {},
   "source": [
    "**Veja as 3 primeiras entradas do conjunto de dados.**"
   ]
  },
  {
   "cell_type": "code",
   "execution_count": 14,
   "id": "42f8aab9",
   "metadata": {
    "collapsed": true
   },
   "outputs": [
    {
     "data": {
      "text/html": [
       "<div>\n",
       "<style scoped>\n",
       "    .dataframe tbody tr th:only-of-type {\n",
       "        vertical-align: middle;\n",
       "    }\n",
       "\n",
       "    .dataframe tbody tr th {\n",
       "        vertical-align: top;\n",
       "    }\n",
       "\n",
       "    .dataframe thead th {\n",
       "        text-align: right;\n",
       "    }\n",
       "</style>\n",
       "<table border=\"1\" class=\"dataframe\">\n",
       "  <thead>\n",
       "    <tr style=\"text-align: right;\">\n",
       "      <th></th>\n",
       "      <th>codigo_ocorrencia</th>\n",
       "      <th>ocorrencia_classificacao</th>\n",
       "      <th>ocorrencia_tipo</th>\n",
       "      <th>ocorrencia_tipo_categoria</th>\n",
       "      <th>ocorrencia_tipo_icao</th>\n",
       "      <th>ocorrencia_latitude</th>\n",
       "      <th>ocorrencia_longitude</th>\n",
       "      <th>ocorrencia_cidade</th>\n",
       "      <th>ocorrencia_uf</th>\n",
       "      <th>ocorrencia_pais</th>\n",
       "      <th>...</th>\n",
       "      <th>ocorrencia_horario</th>\n",
       "      <th>investigacao_aeronave_liberada</th>\n",
       "      <th>investigacao_status</th>\n",
       "      <th>divulgacao_relatorio_numero</th>\n",
       "      <th>divulgacao_relatorio_publicado</th>\n",
       "      <th>divulgacao_dia_publicacao</th>\n",
       "      <th>total_recomendacoes</th>\n",
       "      <th>total_aeronaves_envolvidas</th>\n",
       "      <th>ocorrencia_saida_pista</th>\n",
       "      <th>ocorrencia_dia_extracao</th>\n",
       "    </tr>\n",
       "  </thead>\n",
       "  <tbody>\n",
       "    <tr>\n",
       "      <th>0</th>\n",
       "      <td>201305055424986</td>\n",
       "      <td>ACIDENTE</td>\n",
       "      <td>FALHA DO MOTOR EM VOO</td>\n",
       "      <td>FALHA OU MAU FUNCIONAMENTO DO MOTOR</td>\n",
       "      <td>SCF-PP</td>\n",
       "      <td>-9.9085</td>\n",
       "      <td>-63.0333</td>\n",
       "      <td>ARIQUEMES</td>\n",
       "      <td>RO</td>\n",
       "      <td>BRASIL</td>\n",
       "      <td>...</td>\n",
       "      <td>11:00:00</td>\n",
       "      <td>NaN</td>\n",
       "      <td>FINALIZADA</td>\n",
       "      <td>***</td>\n",
       "      <td>NÃO</td>\n",
       "      <td>NaN</td>\n",
       "      <td>0</td>\n",
       "      <td>1</td>\n",
       "      <td>NÃO</td>\n",
       "      <td>2018-08-28</td>\n",
       "    </tr>\n",
       "    <tr>\n",
       "      <th>1</th>\n",
       "      <td>201605160250139</td>\n",
       "      <td>INCIDENTE GRAVE</td>\n",
       "      <td>COLISÃO COM OBSTÁCULO DURANTE A DECOLAGEM E POUSO</td>\n",
       "      <td>COLISÃO COM OBSTÁCULO DURANTE A DECOLAGEM E POUSO</td>\n",
       "      <td>CTOL</td>\n",
       "      <td>-11.2644</td>\n",
       "      <td>-61.2589</td>\n",
       "      <td>CACOAL</td>\n",
       "      <td>RO</td>\n",
       "      <td>BRASIL</td>\n",
       "      <td>...</td>\n",
       "      <td>19:19:00</td>\n",
       "      <td>SIM</td>\n",
       "      <td>ATIVA</td>\n",
       "      <td>IG-084/CENIPA/2016</td>\n",
       "      <td>NÃO</td>\n",
       "      <td>NaN</td>\n",
       "      <td>0</td>\n",
       "      <td>1</td>\n",
       "      <td>NÃO</td>\n",
       "      <td>2018-08-28</td>\n",
       "    </tr>\n",
       "    <tr>\n",
       "      <th>2</th>\n",
       "      <td>201805021421302</td>\n",
       "      <td>INCIDENTE</td>\n",
       "      <td>AERÓDROMO</td>\n",
       "      <td>AERÓDROMO</td>\n",
       "      <td>ADRM</td>\n",
       "      <td>-11.4956</td>\n",
       "      <td>-61.4508</td>\n",
       "      <td>CACOAL</td>\n",
       "      <td>RO</td>\n",
       "      <td>BRASIL</td>\n",
       "      <td>...</td>\n",
       "      <td>22:40:00</td>\n",
       "      <td>SIM</td>\n",
       "      <td>FINALIZADA</td>\n",
       "      <td>***</td>\n",
       "      <td>NÃO</td>\n",
       "      <td>NaN</td>\n",
       "      <td>0</td>\n",
       "      <td>1</td>\n",
       "      <td>NÃO</td>\n",
       "      <td>2018-08-28</td>\n",
       "    </tr>\n",
       "  </tbody>\n",
       "</table>\n",
       "<p>3 rows × 22 columns</p>\n",
       "</div>"
      ],
      "text/plain": [
       "   codigo_ocorrencia ocorrencia_classificacao  \\\n",
       "0    201305055424986                 ACIDENTE   \n",
       "1    201605160250139          INCIDENTE GRAVE   \n",
       "2    201805021421302                INCIDENTE   \n",
       "\n",
       "                                     ocorrencia_tipo  \\\n",
       "0                              FALHA DO MOTOR EM VOO   \n",
       "1  COLISÃO COM OBSTÁCULO DURANTE A DECOLAGEM E POUSO   \n",
       "2                                          AERÓDROMO   \n",
       "\n",
       "                           ocorrencia_tipo_categoria ocorrencia_tipo_icao  \\\n",
       "0                FALHA OU MAU FUNCIONAMENTO DO MOTOR               SCF-PP   \n",
       "1  COLISÃO COM OBSTÁCULO DURANTE A DECOLAGEM E POUSO                 CTOL   \n",
       "2                                          AERÓDROMO                 ADRM   \n",
       "\n",
       "   ocorrencia_latitude  ocorrencia_longitude ocorrencia_cidade ocorrencia_uf  \\\n",
       "0              -9.9085              -63.0333         ARIQUEMES            RO   \n",
       "1             -11.2644              -61.2589            CACOAL            RO   \n",
       "2             -11.4956              -61.4508            CACOAL            RO   \n",
       "\n",
       "  ocorrencia_pais  ... ocorrencia_horario investigacao_aeronave_liberada  \\\n",
       "0          BRASIL  ...           11:00:00                            NaN   \n",
       "1          BRASIL  ...           19:19:00                            SIM   \n",
       "2          BRASIL  ...           22:40:00                            SIM   \n",
       "\n",
       "  investigacao_status divulgacao_relatorio_numero  \\\n",
       "0          FINALIZADA                         ***   \n",
       "1               ATIVA          IG-084/CENIPA/2016   \n",
       "2          FINALIZADA                         ***   \n",
       "\n",
       "  divulgacao_relatorio_publicado divulgacao_dia_publicacao  \\\n",
       "0                            NÃO                       NaN   \n",
       "1                            NÃO                       NaN   \n",
       "2                            NÃO                       NaN   \n",
       "\n",
       "  total_recomendacoes total_aeronaves_envolvidas  ocorrencia_saida_pista  \\\n",
       "0                   0                          1                     NÃO   \n",
       "1                   0                          1                     NÃO   \n",
       "2                   0                          1                     NÃO   \n",
       "\n",
       "   ocorrencia_dia_extracao  \n",
       "0               2018-08-28  \n",
       "1               2018-08-28  \n",
       "2               2018-08-28  \n",
       "\n",
       "[3 rows x 22 columns]"
      ]
     },
     "execution_count": 14,
     "metadata": {},
     "output_type": "execute_result"
    }
   ],
   "source": [
    "#Geralmente utilizamos o head para verificar as primeiras 5 linhas de um DataFrame, \n",
    "#...mas podemos utiliza-lo para outras quantidades de linhas;\n",
    "df.head(3)"
   ]
  },
  {
   "cell_type": "markdown",
   "id": "9d77506e",
   "metadata": {},
   "source": [
    "**Veja quantos valores únicos existem para a coluna `ocorrencia_classificacao`**"
   ]
  },
  {
   "cell_type": "code",
   "execution_count": 15,
   "id": "3e52a7b6",
   "metadata": {
    "collapsed": true
   },
   "outputs": [
    {
     "data": {
      "text/plain": [
       "array(['ACIDENTE', 'INCIDENTE GRAVE', 'INCIDENTE'], dtype=object)"
      ]
     },
     "execution_count": 15,
     "metadata": {},
     "output_type": "execute_result"
    }
   ],
   "source": [
    "#Nos mostra os valores unicos do dataset\n",
    "df.ocorrencia_classificacao.unique()"
   ]
  },
  {
   "cell_type": "markdown",
   "id": "db29a693",
   "metadata": {},
   "source": [
    "**Descubra qual Estado possui o maior número de ocorrências com aeronaves civis.**"
   ]
  },
  {
   "cell_type": "code",
   "execution_count": 16,
   "id": "155f9a96",
   "metadata": {
    "collapsed": true
   },
   "outputs": [
    {
     "data": {
      "text/plain": [
       "SP     1207\n",
       "RJ      498\n",
       "MG      476\n",
       "PR      437\n",
       "RS      350\n",
       "GO      268\n",
       "PA      255\n",
       "MT      244\n",
       "AM      219\n",
       "BA      208\n",
       "SC      160\n",
       "DF      151\n",
       "MS      132\n",
       "PE       88\n",
       "CE       75\n",
       "ES       66\n",
       "MA       63\n",
       "TO       54\n",
       "AC       53\n",
       "RR       50\n",
       "PI       39\n",
       "RO       30\n",
       "PB       20\n",
       "SE       18\n",
       "AL       16\n",
       "RN       15\n",
       "AP       13\n",
       "***       3\n",
       "Name: ocorrencia_uf, dtype: int64"
      ]
     },
     "execution_count": 16,
     "metadata": {},
     "output_type": "execute_result"
    }
   ],
   "source": [
    "#Valores que ocorrem com frequência\n",
    "df.ocorrencia_uf.value_counts()"
   ]
  },
  {
   "cell_type": "markdown",
   "id": "65d42e84",
   "metadata": {},
   "source": [
    "**Quantos por cento das ocorrências são do tipo `FALHA DO MOTOR EM VOO`?**"
   ]
  },
  {
   "cell_type": "code",
   "execution_count": 32,
   "id": "d7270a35",
   "metadata": {
    "scrolled": true
   },
   "outputs": [
    {
     "data": {
      "text/plain": [
       "FALHA DO MOTOR EM VOO                                  0.130952\n",
       "ESTOURO DE PNEU                                        0.115975\n",
       "FALHA OU MAU FUNCIONAMENTO DE SISTEMA / COMPONENTE     0.110215\n",
       "PERDA DE CONTROLE NO SOLO                              0.094470\n",
       "OUTROS                                                 0.067204\n",
       "Name: ocorrencia_tipo, dtype: float64"
      ]
     },
     "execution_count": 32,
     "metadata": {},
     "output_type": "execute_result"
    }
   ],
   "source": [
    "(df.ocorrencia_tipo.value_counts() / df.shape[0]).head() #Tranfosmando a célula em porcentagem\n"
   ]
  },
  {
   "cell_type": "markdown",
   "id": "1644967d",
   "metadata": {},
   "source": [
    "## Exercício 2\n",
    "\n",
    "Você irá trabalhar agora com os dados da ação BBAS3, do Banco do Brasil na BOVESPA.\n",
    "\n",
    "Na variável `df_bbas3`, foi importado [este arquivo `csv`](https://raw.githubusercontent.com/carlosfab/curso_data_science_na_pratica/master/modulo_02/BBAS3.SA.csv), onde o *index* do *DataFrame* representa os valores da ação para determinado dia. Responda as perguntas abaixo."
   ]
  },
  {
   "cell_type": "code",
   "execution_count": 35,
   "id": "d7696a53",
   "metadata": {},
   "outputs": [],
   "source": [
    "df_bbas3 = pd.read_csv(\"https://raw.githubusercontent.com/carlosfab/curso_data_science_na_pratica/master/modulo_02/BBAS3.SA.csv\",\n",
    "                      index_col=\"Date\")"
   ]
  },
  {
   "cell_type": "markdown",
   "id": "64b81219",
   "metadata": {},
   "source": [
    "**Veja as 5 primeiras entradas da variável df_bbas3.**"
   ]
  },
  {
   "cell_type": "code",
   "execution_count": 36,
   "id": "dedb12eb",
   "metadata": {},
   "outputs": [
    {
     "data": {
      "text/html": [
       "<div>\n",
       "<style scoped>\n",
       "    .dataframe tbody tr th:only-of-type {\n",
       "        vertical-align: middle;\n",
       "    }\n",
       "\n",
       "    .dataframe tbody tr th {\n",
       "        vertical-align: top;\n",
       "    }\n",
       "\n",
       "    .dataframe thead th {\n",
       "        text-align: right;\n",
       "    }\n",
       "</style>\n",
       "<table border=\"1\" class=\"dataframe\">\n",
       "  <thead>\n",
       "    <tr style=\"text-align: right;\">\n",
       "      <th></th>\n",
       "      <th>Open</th>\n",
       "      <th>High</th>\n",
       "      <th>Low</th>\n",
       "      <th>Close</th>\n",
       "      <th>Adj Close</th>\n",
       "      <th>Volume</th>\n",
       "    </tr>\n",
       "    <tr>\n",
       "      <th>Date</th>\n",
       "      <th></th>\n",
       "      <th></th>\n",
       "      <th></th>\n",
       "      <th></th>\n",
       "      <th></th>\n",
       "      <th></th>\n",
       "    </tr>\n",
       "  </thead>\n",
       "  <tbody>\n",
       "    <tr>\n",
       "      <th>2018-09-21</th>\n",
       "      <td>29.730000</td>\n",
       "      <td>30.580000</td>\n",
       "      <td>29.340000</td>\n",
       "      <td>30.580000</td>\n",
       "      <td>28.680056</td>\n",
       "      <td>16301600</td>\n",
       "    </tr>\n",
       "    <tr>\n",
       "      <th>2018-09-24</th>\n",
       "      <td>30.379999</td>\n",
       "      <td>30.700001</td>\n",
       "      <td>29.500000</td>\n",
       "      <td>29.730000</td>\n",
       "      <td>27.882866</td>\n",
       "      <td>13086900</td>\n",
       "    </tr>\n",
       "    <tr>\n",
       "      <th>2018-09-25</th>\n",
       "      <td>29.030001</td>\n",
       "      <td>29.760000</td>\n",
       "      <td>28.809999</td>\n",
       "      <td>29.549999</td>\n",
       "      <td>27.714045</td>\n",
       "      <td>11742900</td>\n",
       "    </tr>\n",
       "    <tr>\n",
       "      <th>2018-09-26</th>\n",
       "      <td>29.650000</td>\n",
       "      <td>29.969999</td>\n",
       "      <td>29.209999</td>\n",
       "      <td>29.450001</td>\n",
       "      <td>27.620264</td>\n",
       "      <td>12842400</td>\n",
       "    </tr>\n",
       "    <tr>\n",
       "      <th>2018-09-27</th>\n",
       "      <td>29.680000</td>\n",
       "      <td>30.299999</td>\n",
       "      <td>29.680000</td>\n",
       "      <td>30.290001</td>\n",
       "      <td>28.408072</td>\n",
       "      <td>8767900</td>\n",
       "    </tr>\n",
       "  </tbody>\n",
       "</table>\n",
       "</div>"
      ],
      "text/plain": [
       "                 Open       High        Low      Close  Adj Close    Volume\n",
       "Date                                                                       \n",
       "2018-09-21  29.730000  30.580000  29.340000  30.580000  28.680056  16301600\n",
       "2018-09-24  30.379999  30.700001  29.500000  29.730000  27.882866  13086900\n",
       "2018-09-25  29.030001  29.760000  28.809999  29.549999  27.714045  11742900\n",
       "2018-09-26  29.650000  29.969999  29.209999  29.450001  27.620264  12842400\n",
       "2018-09-27  29.680000  30.299999  29.680000  30.290001  28.408072   8767900"
      ]
     },
     "execution_count": 36,
     "metadata": {},
     "output_type": "execute_result"
    }
   ],
   "source": [
    "df_bbas3.head()"
   ]
  },
  {
   "cell_type": "markdown",
   "id": "98a63cf7",
   "metadata": {},
   "source": [
    "**Quais são os valores da ação para o dia 04 de outubro de 2018?**"
   ]
  },
  {
   "cell_type": "code",
   "execution_count": 44,
   "id": "40b370ad",
   "metadata": {},
   "outputs": [
    {
     "data": {
      "text/plain": [
       "Open         3.368000e+01\n",
       "High         3.588000e+01\n",
       "Low          3.352000e+01\n",
       "Close        3.512000e+01\n",
       "Adj Close    3.293799e+01\n",
       "Volume       2.792000e+07\n",
       "Name: 2018-10-04, dtype: float64"
      ]
     },
     "execution_count": 44,
     "metadata": {},
     "output_type": "execute_result"
    }
   ],
   "source": [
    "df_bbas3.loc['2018-10-04']"
   ]
  },
  {
   "cell_type": "markdown",
   "id": "f01ad687",
   "metadata": {},
   "source": [
    "**Qual a média do Volume financeiro movimentado em todo o período?**"
   ]
  },
  {
   "cell_type": "code",
   "execution_count": 46,
   "id": "882021e6",
   "metadata": {},
   "outputs": [
    {
     "data": {
      "text/plain": [
       "11928526.016260162"
      ]
     },
     "execution_count": 46,
     "metadata": {},
     "output_type": "execute_result"
    }
   ],
   "source": [
    "df_bbas3.Volume.mean()"
   ]
  },
  {
   "cell_type": "markdown",
   "id": "2dccbf76",
   "metadata": {},
   "source": [
    "## Exercício 3\n",
    "\n",
    "Você irá trabalhar agora com os dados do projeto +BIKE, usado em aulas passadas.\n",
    "\n",
    "Na variável df_bike, foi importado [este arquivo csv](http://dl.dropboxusercontent.com/s/yyfeoxqw61o3iel/df_rides.csv)."
   ]
  },
  {
   "cell_type": "code",
   "execution_count": 48,
   "id": "e5d6e219",
   "metadata": {},
   "outputs": [],
   "source": [
    "df_bike = pd.read_csv('http://dl.dropboxusercontent.com/s/yyfeoxqw61o3iel/df_rides.csv')"
   ]
  },
  {
   "cell_type": "code",
   "execution_count": 49,
   "id": "6ec7a789",
   "metadata": {},
   "outputs": [
    {
     "data": {
      "text/html": [
       "<div>\n",
       "<style scoped>\n",
       "    .dataframe tbody tr th:only-of-type {\n",
       "        vertical-align: middle;\n",
       "    }\n",
       "\n",
       "    .dataframe tbody tr th {\n",
       "        vertical-align: top;\n",
       "    }\n",
       "\n",
       "    .dataframe thead th {\n",
       "        text-align: right;\n",
       "    }\n",
       "</style>\n",
       "<table border=\"1\" class=\"dataframe\">\n",
       "  <thead>\n",
       "    <tr style=\"text-align: right;\">\n",
       "      <th></th>\n",
       "      <th>user_gender</th>\n",
       "      <th>user_birthdate</th>\n",
       "      <th>user_residence</th>\n",
       "      <th>ride_date</th>\n",
       "      <th>time_start</th>\n",
       "      <th>time_end</th>\n",
       "      <th>station_start</th>\n",
       "      <th>station_end</th>\n",
       "      <th>ride_duration</th>\n",
       "      <th>ride_late</th>\n",
       "    </tr>\n",
       "  </thead>\n",
       "  <tbody>\n",
       "    <tr>\n",
       "      <th>0</th>\n",
       "      <td>M</td>\n",
       "      <td>1971-06-08</td>\n",
       "      <td>NaN</td>\n",
       "      <td>2018-01-01</td>\n",
       "      <td>06:05:18</td>\n",
       "      <td>06:21:33</td>\n",
       "      <td>11 - Rodoviária 2</td>\n",
       "      <td>41 - Instituto de Artes</td>\n",
       "      <td>16.250000</td>\n",
       "      <td>0.0</td>\n",
       "    </tr>\n",
       "    <tr>\n",
       "      <th>1</th>\n",
       "      <td>M</td>\n",
       "      <td>1989-02-11</td>\n",
       "      <td>DF</td>\n",
       "      <td>2018-01-01</td>\n",
       "      <td>06:27:01</td>\n",
       "      <td>06:32:17</td>\n",
       "      <td>26 - Ministério da Saude</td>\n",
       "      <td>28 - CNMP - Conselho Nacional do Ministério Pú...</td>\n",
       "      <td>5.266667</td>\n",
       "      <td>0.0</td>\n",
       "    </tr>\n",
       "    <tr>\n",
       "      <th>2</th>\n",
       "      <td>M</td>\n",
       "      <td>1968-07-19</td>\n",
       "      <td>NaN</td>\n",
       "      <td>2018-01-01</td>\n",
       "      <td>06:29:33</td>\n",
       "      <td>06:44:57</td>\n",
       "      <td>11 - Rodoviária 2</td>\n",
       "      <td>43 - Biblioteca Central</td>\n",
       "      <td>15.400000</td>\n",
       "      <td>0.0</td>\n",
       "    </tr>\n",
       "    <tr>\n",
       "      <th>3</th>\n",
       "      <td>M</td>\n",
       "      <td>1991-12-19</td>\n",
       "      <td>NaN</td>\n",
       "      <td>2018-01-01</td>\n",
       "      <td>06:53:53</td>\n",
       "      <td>06:59:45</td>\n",
       "      <td>10 - Ministério dos Transportes</td>\n",
       "      <td>6 - Rodoviária</td>\n",
       "      <td>5.866667</td>\n",
       "      <td>0.0</td>\n",
       "    </tr>\n",
       "    <tr>\n",
       "      <th>4</th>\n",
       "      <td>M</td>\n",
       "      <td>1969-03-03</td>\n",
       "      <td>DF</td>\n",
       "      <td>2018-01-01</td>\n",
       "      <td>06:58:56</td>\n",
       "      <td>17:40:04</td>\n",
       "      <td>15 - Brasil 21</td>\n",
       "      <td>11 - Rodoviária 2</td>\n",
       "      <td>641.133333</td>\n",
       "      <td>1.0</td>\n",
       "    </tr>\n",
       "  </tbody>\n",
       "</table>\n",
       "</div>"
      ],
      "text/plain": [
       "  user_gender user_birthdate user_residence   ride_date time_start  time_end  \\\n",
       "0           M     1971-06-08            NaN  2018-01-01   06:05:18  06:21:33   \n",
       "1           M     1989-02-11             DF  2018-01-01   06:27:01  06:32:17   \n",
       "2           M     1968-07-19            NaN  2018-01-01   06:29:33  06:44:57   \n",
       "3           M     1991-12-19            NaN  2018-01-01   06:53:53  06:59:45   \n",
       "4           M     1969-03-03             DF  2018-01-01   06:58:56  17:40:04   \n",
       "\n",
       "                     station_start  \\\n",
       "0                11 - Rodoviária 2   \n",
       "1         26 - Ministério da Saude   \n",
       "2                11 - Rodoviária 2   \n",
       "3  10 - Ministério dos Transportes   \n",
       "4                   15 - Brasil 21   \n",
       "\n",
       "                                         station_end  ride_duration  ride_late  \n",
       "0                            41 - Instituto de Artes      16.250000        0.0  \n",
       "1  28 - CNMP - Conselho Nacional do Ministério Pú...       5.266667        0.0  \n",
       "2                            43 - Biblioteca Central      15.400000        0.0  \n",
       "3                                     6 - Rodoviária       5.866667        0.0  \n",
       "4                                  11 - Rodoviária 2     641.133333        1.0  "
      ]
     },
     "execution_count": 49,
     "metadata": {},
     "output_type": "execute_result"
    }
   ],
   "source": [
    "df_bike.head()"
   ]
  },
  {
   "cell_type": "markdown",
   "id": "44723161",
   "metadata": {},
   "source": [
    "**Qual a porcentagem de valores ausentes para a coluna `user_gender`?**"
   ]
  },
  {
   "cell_type": "code",
   "execution_count": 53,
   "id": "ffea997b",
   "metadata": {},
   "outputs": [
    {
     "data": {
      "text/plain": [
       "0.0013782446175371187"
      ]
     },
     "execution_count": 53,
     "metadata": {},
     "output_type": "execute_result"
    }
   ],
   "source": [
    "df_bike.user_gender.isnull().sum()/df_bike.shape[0]"
   ]
  },
  {
   "cell_type": "markdown",
   "id": "930049a5",
   "metadata": {},
   "source": [
    "**Preencha a coluna `user_gender` com o valor mais frequente.**"
   ]
  },
  {
   "cell_type": "code",
   "execution_count": 54,
   "id": "40fdcae7",
   "metadata": {
    "scrolled": true
   },
   "outputs": [
    {
     "data": {
      "text/plain": [
       "M    212608\n",
       "F     74318\n",
       "Name: user_gender, dtype: int64"
      ]
     },
     "execution_count": 54,
     "metadata": {},
     "output_type": "execute_result"
    }
   ],
   "source": [
    "df_bike.user_gender.value_counts()"
   ]
  },
  {
   "cell_type": "markdown",
   "id": "d9c52c23",
   "metadata": {},
   "source": [
    "**Plote u boxplot para a coluna ride_duration.**"
   ]
  },
  {
   "cell_type": "code",
   "execution_count": 57,
   "id": "c72a403f",
   "metadata": {},
   "outputs": [],
   "source": [
    "import matplotlib.pyplot as plt"
   ]
  },
  {
   "cell_type": "code",
   "execution_count": 58,
   "id": "bdd45591",
   "metadata": {},
   "outputs": [
    {
     "data": {
      "image/png": "[encoded data removed]",
      "text/plain": [
       "<Figure size 1080x216 with 1 Axes>"
      ]
     },
     "metadata": {
      "needs_background": "light"
     },
     "output_type": "display_data"
    }
   ],
   "source": [
    "df_bike.ride_duration.plot(kind='box', vert=False,figsize=(15,3))\n",
    "plt.show()"
   ]
  }
 ],
 "metadata": {
  "kernelspec": {
   "display_name": "Python 3 (ipykernel)",
   "language": "python",
   "name": "python3"
  },
  "language_info": {
   "codemirror_mode": {
    "name": "ipython",
    "version": 3
   },
   "file_extension": ".py",
   "mimetype": "text/x-python",
   "name": "python",
   "nbconvert_exporter": "python",
   "pygments_lexer": "ipython3",
   "version": "3.8.10"
  }
 },
 "nbformat": 4,
 "nbformat_minor": 5
}
