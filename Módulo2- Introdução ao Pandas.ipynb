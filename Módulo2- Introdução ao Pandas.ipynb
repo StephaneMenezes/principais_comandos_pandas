{
 "cells": [
  {
   "cell_type": "markdown",
   "id": "1afe421d",
   "metadata": {},
   "source": [
    "# Nesta aula iremos aprender sobre a biblioteca pandas e as suas funções"
   ]
  },
  {
   "cell_type": "code",
   "execution_count": 2,
   "id": "447fd2a7",
   "metadata": {},
   "outputs": [],
   "source": [
    "import pandas as pd"
   ]
  },
  {
   "cell_type": "code",
   "execution_count": 16,
   "id": "e79a1d30",
   "metadata": {},
   "outputs": [
    {
     "data": {
      "text/html": [
       "<div>\n",
       "<style scoped>\n",
       "    .dataframe tbody tr th:only-of-type {\n",
       "        vertical-align: middle;\n",
       "    }\n",
       "\n",
       "    .dataframe tbody tr th {\n",
       "        vertical-align: top;\n",
       "    }\n",
       "\n",
       "    .dataframe thead th {\n",
       "        text-align: right;\n",
       "    }\n",
       "</style>\n",
       "<table border=\"1\" class=\"dataframe\">\n",
       "  <thead>\n",
       "    <tr style=\"text-align: right;\">\n",
       "      <th></th>\n",
       "      <th>Date</th>\n",
       "      <th>Open</th>\n",
       "      <th>High</th>\n",
       "      <th>Low</th>\n",
       "      <th>Close</th>\n",
       "      <th>Adj Close</th>\n",
       "      <th>Volume</th>\n",
       "    </tr>\n",
       "  </thead>\n",
       "  <tbody>\n",
       "    <tr>\n",
       "      <th>0</th>\n",
       "      <td>2018-09-21</td>\n",
       "      <td>29.730000</td>\n",
       "      <td>30.580000</td>\n",
       "      <td>29.340000</td>\n",
       "      <td>30.580000</td>\n",
       "      <td>28.680056</td>\n",
       "      <td>16301600</td>\n",
       "    </tr>\n",
       "    <tr>\n",
       "      <th>1</th>\n",
       "      <td>2018-09-24</td>\n",
       "      <td>30.379999</td>\n",
       "      <td>30.700001</td>\n",
       "      <td>29.500000</td>\n",
       "      <td>29.730000</td>\n",
       "      <td>27.882866</td>\n",
       "      <td>13086900</td>\n",
       "    </tr>\n",
       "    <tr>\n",
       "      <th>2</th>\n",
       "      <td>2018-09-25</td>\n",
       "      <td>29.030001</td>\n",
       "      <td>29.760000</td>\n",
       "      <td>28.809999</td>\n",
       "      <td>29.549999</td>\n",
       "      <td>27.714045</td>\n",
       "      <td>11742900</td>\n",
       "    </tr>\n",
       "    <tr>\n",
       "      <th>3</th>\n",
       "      <td>2018-09-26</td>\n",
       "      <td>29.650000</td>\n",
       "      <td>29.969999</td>\n",
       "      <td>29.209999</td>\n",
       "      <td>29.450001</td>\n",
       "      <td>27.620264</td>\n",
       "      <td>12842400</td>\n",
       "    </tr>\n",
       "    <tr>\n",
       "      <th>4</th>\n",
       "      <td>2018-09-27</td>\n",
       "      <td>29.680000</td>\n",
       "      <td>30.299999</td>\n",
       "      <td>29.680000</td>\n",
       "      <td>30.290001</td>\n",
       "      <td>28.408072</td>\n",
       "      <td>8767900</td>\n",
       "    </tr>\n",
       "  </tbody>\n",
       "</table>\n",
       "</div>"
      ],
      "text/plain": [
       "         Date       Open       High        Low      Close  Adj Close    Volume\n",
       "0  2018-09-21  29.730000  30.580000  29.340000  30.580000  28.680056  16301600\n",
       "1  2018-09-24  30.379999  30.700001  29.500000  29.730000  27.882866  13086900\n",
       "2  2018-09-25  29.030001  29.760000  28.809999  29.549999  27.714045  11742900\n",
       "3  2018-09-26  29.650000  29.969999  29.209999  29.450001  27.620264  12842400\n",
       "4  2018-09-27  29.680000  30.299999  29.680000  30.290001  28.408072   8767900"
      ]
     },
     "execution_count": 16,
     "metadata": {},
     "output_type": "execute_result"
    }
   ],
   "source": [
    "df = pd.read_csv('https://raw.githubusercontent.com/carlosfab/curso_data_science_na_pratica/master/modulo_02/BBAS3.SA.csv')\n",
    "df.head()"
   ]
  },
  {
   "cell_type": "markdown",
   "id": "b41eef92",
   "metadata": {},
   "source": [
    "**VENDO O TIPO DAS COLUNAS**"
   ]
  },
  {
   "cell_type": "code",
   "execution_count": 14,
   "id": "945fa3ec",
   "metadata": {},
   "outputs": [
    {
     "data": {
      "text/plain": [
       "Date          object\n",
       "Open         float64\n",
       "High         float64\n",
       "Low          float64\n",
       "Close        float64\n",
       "Adj Close    float64\n",
       "Volume         int64\n",
       "dtype: object"
      ]
     },
     "execution_count": 14,
     "metadata": {},
     "output_type": "execute_result"
    }
   ],
   "source": [
    "df.dtypes"
   ]
  },
  {
   "cell_type": "markdown",
   "id": "bb2f57f9",
   "metadata": {},
   "source": [
    "**VENDO O NOME DE TODAS AS COLUNAS**"
   ]
  },
  {
   "cell_type": "code",
   "execution_count": 19,
   "id": "5052ba21",
   "metadata": {},
   "outputs": [
    {
     "data": {
      "text/plain": [
       "Index(['Date', 'Open', 'High', 'Low', 'Close', 'Adj Close', 'Volume'], dtype='object')"
      ]
     },
     "execution_count": 19,
     "metadata": {},
     "output_type": "execute_result"
    }
   ],
   "source": [
    "df.columns"
   ]
  },
  {
   "cell_type": "markdown",
   "id": "e484a544",
   "metadata": {},
   "source": [
    "**VENDO OS DADOS DE UMA COLUNA ESPECIFICA**"
   ]
  },
  {
   "cell_type": "code",
   "execution_count": 23,
   "id": "2f024ef7",
   "metadata": {},
   "outputs": [
    {
     "data": {
      "text/plain": [
       "0    29.730000\n",
       "1    30.379999\n",
       "2    29.030001\n",
       "3    29.650000\n",
       "4    29.680000\n",
       "5    29.830000\n",
       "6    29.549999\n",
       "Name: Open, dtype: float64"
      ]
     },
     "execution_count": 23,
     "metadata": {},
     "output_type": "execute_result"
    }
   ],
   "source": [
    "df['Open'].head(7)"
   ]
  },
  {
   "cell_type": "code",
   "execution_count": 24,
   "id": "16d7ddcf",
   "metadata": {},
   "outputs": [
    {
     "data": {
      "text/plain": [
       "47.51630076829271"
      ]
     },
     "execution_count": 24,
     "metadata": {},
     "output_type": "execute_result"
    }
   ],
   "source": [
    "#Fazendo uma média dos dados de Open\n",
    "\n",
    "df['Open'].mean()"
   ]
  },
  {
   "cell_type": "markdown",
   "id": "a0e91b01",
   "metadata": {},
   "source": [
    "# Criando um DataFrame"
   ]
  },
  {
   "cell_type": "code",
   "execution_count": 28,
   "id": "523fc7c3",
   "metadata": {},
   "outputs": [
    {
     "data": {
      "text/plain": [
       "{'nome': ['Carlos', 'Pedro', 'Daniela', 'Fernanda'],\n",
       " 'idade': [35, 32, 15, 49],\n",
       " 'cidade': ['Araraquara', 'Belém', 'Natal', 'Curitiba'],\n",
       " 'comprou': [True, False, False, True]}"
      ]
     },
     "execution_count": 28,
     "metadata": {},
     "output_type": "execute_result"
    }
   ],
   "source": [
    "dados = {\n",
    "    'nome': ['Carlos','Pedro','Daniela','Fernanda'],\n",
    "    'idade':[35,32,15,49],\n",
    "    'cidade': ['Araraquara','Belém','Natal','Curitiba'],\n",
    "    'comprou':[True, False, False, True]\n",
    "}\n",
    "\n",
    "#Visualizando os dados\n",
    "dados"
   ]
  },
  {
   "cell_type": "code",
   "execution_count": 29,
   "id": "34dcabbd",
   "metadata": {},
   "outputs": [
    {
     "data": {
      "text/html": [
       "<div>\n",
       "<style scoped>\n",
       "    .dataframe tbody tr th:only-of-type {\n",
       "        vertical-align: middle;\n",
       "    }\n",
       "\n",
       "    .dataframe tbody tr th {\n",
       "        vertical-align: top;\n",
       "    }\n",
       "\n",
       "    .dataframe thead th {\n",
       "        text-align: right;\n",
       "    }\n",
       "</style>\n",
       "<table border=\"1\" class=\"dataframe\">\n",
       "  <thead>\n",
       "    <tr style=\"text-align: right;\">\n",
       "      <th></th>\n",
       "      <th>nome</th>\n",
       "      <th>idade</th>\n",
       "      <th>cidade</th>\n",
       "      <th>comprou</th>\n",
       "    </tr>\n",
       "  </thead>\n",
       "  <tbody>\n",
       "    <tr>\n",
       "      <th>0</th>\n",
       "      <td>Carlos</td>\n",
       "      <td>35</td>\n",
       "      <td>Araraquara</td>\n",
       "      <td>True</td>\n",
       "    </tr>\n",
       "    <tr>\n",
       "      <th>1</th>\n",
       "      <td>Pedro</td>\n",
       "      <td>32</td>\n",
       "      <td>Belém</td>\n",
       "      <td>False</td>\n",
       "    </tr>\n",
       "    <tr>\n",
       "      <th>2</th>\n",
       "      <td>Daniela</td>\n",
       "      <td>15</td>\n",
       "      <td>Natal</td>\n",
       "      <td>False</td>\n",
       "    </tr>\n",
       "    <tr>\n",
       "      <th>3</th>\n",
       "      <td>Fernanda</td>\n",
       "      <td>49</td>\n",
       "      <td>Curitiba</td>\n",
       "      <td>True</td>\n",
       "    </tr>\n",
       "  </tbody>\n",
       "</table>\n",
       "</div>"
      ],
      "text/plain": [
       "       nome  idade      cidade  comprou\n",
       "0    Carlos     35  Araraquara     True\n",
       "1     Pedro     32       Belém    False\n",
       "2   Daniela     15       Natal    False\n",
       "3  Fernanda     49    Curitiba     True"
      ]
     },
     "execution_count": 29,
     "metadata": {},
     "output_type": "execute_result"
    }
   ],
   "source": [
    "#Criar o Dataframe\n",
    "\n",
    "df=pd.DataFrame(dados)\n",
    "\n",
    "#Visualizar o Dataframe\n",
    "\n",
    "df"
   ]
  },
  {
   "cell_type": "code",
   "execution_count": 31,
   "id": "3ab2e196",
   "metadata": {},
   "outputs": [
    {
     "data": {
      "text/html": [
       "<div>\n",
       "<style scoped>\n",
       "    .dataframe tbody tr th:only-of-type {\n",
       "        vertical-align: middle;\n",
       "    }\n",
       "\n",
       "    .dataframe tbody tr th {\n",
       "        vertical-align: top;\n",
       "    }\n",
       "\n",
       "    .dataframe thead th {\n",
       "        text-align: right;\n",
       "    }\n",
       "</style>\n",
       "<table border=\"1\" class=\"dataframe\">\n",
       "  <thead>\n",
       "    <tr style=\"text-align: right;\">\n",
       "      <th></th>\n",
       "      <th>nome</th>\n",
       "      <th>idade</th>\n",
       "      <th>cidade</th>\n",
       "      <th>comprou</th>\n",
       "      <th>Saldo</th>\n",
       "    </tr>\n",
       "  </thead>\n",
       "  <tbody>\n",
       "    <tr>\n",
       "      <th>0</th>\n",
       "      <td>Carlos</td>\n",
       "      <td>35</td>\n",
       "      <td>Araraquara</td>\n",
       "      <td>True</td>\n",
       "      <td>0.0</td>\n",
       "    </tr>\n",
       "    <tr>\n",
       "      <th>1</th>\n",
       "      <td>Pedro</td>\n",
       "      <td>32</td>\n",
       "      <td>Belém</td>\n",
       "      <td>False</td>\n",
       "      <td>100.0</td>\n",
       "    </tr>\n",
       "    <tr>\n",
       "      <th>2</th>\n",
       "      <td>Daniela</td>\n",
       "      <td>15</td>\n",
       "      <td>Natal</td>\n",
       "      <td>False</td>\n",
       "      <td>250.0</td>\n",
       "    </tr>\n",
       "    <tr>\n",
       "      <th>3</th>\n",
       "      <td>Fernanda</td>\n",
       "      <td>49</td>\n",
       "      <td>Curitiba</td>\n",
       "      <td>True</td>\n",
       "      <td>300.0</td>\n",
       "    </tr>\n",
       "  </tbody>\n",
       "</table>\n",
       "</div>"
      ],
      "text/plain": [
       "       nome  idade      cidade  comprou  Saldo\n",
       "0    Carlos     35  Araraquara     True    0.0\n",
       "1     Pedro     32       Belém    False  100.0\n",
       "2   Daniela     15       Natal    False  250.0\n",
       "3  Fernanda     49    Curitiba     True  300.0"
      ]
     },
     "execution_count": 31,
     "metadata": {},
     "output_type": "execute_result"
    }
   ],
   "source": [
    "#Criando uma coluna para o DataFrame\n",
    "\n",
    "df['Saldo'] = 0.0,100,250,300\n",
    "\n",
    "df"
   ]
  },
  {
   "cell_type": "code",
   "execution_count": 34,
   "id": "7a3112e8",
   "metadata": {},
   "outputs": [
    {
     "data": {
      "text/html": [
       "<div>\n",
       "<style scoped>\n",
       "    .dataframe tbody tr th:only-of-type {\n",
       "        vertical-align: middle;\n",
       "    }\n",
       "\n",
       "    .dataframe tbody tr th {\n",
       "        vertical-align: top;\n",
       "    }\n",
       "\n",
       "    .dataframe thead th {\n",
       "        text-align: right;\n",
       "    }\n",
       "</style>\n",
       "<table border=\"1\" class=\"dataframe\">\n",
       "  <thead>\n",
       "    <tr style=\"text-align: right;\">\n",
       "      <th></th>\n",
       "      <th>nome</th>\n",
       "      <th>idade</th>\n",
       "      <th>cidade</th>\n",
       "      <th>comprou</th>\n",
       "      <th>Saldo</th>\n",
       "    </tr>\n",
       "  </thead>\n",
       "  <tbody>\n",
       "    <tr>\n",
       "      <th>a</th>\n",
       "      <td>Carlos</td>\n",
       "      <td>35</td>\n",
       "      <td>Araraquara</td>\n",
       "      <td>True</td>\n",
       "      <td>0.0</td>\n",
       "    </tr>\n",
       "    <tr>\n",
       "      <th>b</th>\n",
       "      <td>Pedro</td>\n",
       "      <td>32</td>\n",
       "      <td>Belém</td>\n",
       "      <td>False</td>\n",
       "      <td>100.0</td>\n",
       "    </tr>\n",
       "    <tr>\n",
       "      <th>c</th>\n",
       "      <td>Daniela</td>\n",
       "      <td>15</td>\n",
       "      <td>Natal</td>\n",
       "      <td>False</td>\n",
       "      <td>250.0</td>\n",
       "    </tr>\n",
       "    <tr>\n",
       "      <th>d</th>\n",
       "      <td>Fernanda</td>\n",
       "      <td>49</td>\n",
       "      <td>Curitiba</td>\n",
       "      <td>True</td>\n",
       "      <td>300.0</td>\n",
       "    </tr>\n",
       "  </tbody>\n",
       "</table>\n",
       "</div>"
      ],
      "text/plain": [
       "       nome  idade      cidade  comprou  Saldo\n",
       "a    Carlos     35  Araraquara     True    0.0\n",
       "b     Pedro     32       Belém    False  100.0\n",
       "c   Daniela     15       Natal    False  250.0\n",
       "d  Fernanda     49    Curitiba     True  300.0"
      ]
     },
     "execution_count": 34,
     "metadata": {},
     "output_type": "execute_result"
    }
   ],
   "source": [
    "#Alterando o Index\n",
    "\n",
    "df.index = ['a','b','c','d']\n",
    "df"
   ]
  },
  {
   "cell_type": "code",
   "execution_count": 36,
   "id": "d95759f4",
   "metadata": {},
   "outputs": [
    {
     "data": {
      "text/html": [
       "<div>\n",
       "<style scoped>\n",
       "    .dataframe tbody tr th:only-of-type {\n",
       "        vertical-align: middle;\n",
       "    }\n",
       "\n",
       "    .dataframe tbody tr th {\n",
       "        vertical-align: top;\n",
       "    }\n",
       "\n",
       "    .dataframe thead th {\n",
       "        text-align: right;\n",
       "    }\n",
       "</style>\n",
       "<table border=\"1\" class=\"dataframe\">\n",
       "  <thead>\n",
       "    <tr style=\"text-align: right;\">\n",
       "      <th></th>\n",
       "      <th>Nome do cliente</th>\n",
       "      <th>Idade</th>\n",
       "      <th>Cidade</th>\n",
       "      <th>Transação</th>\n",
       "      <th>Saldo na Loja</th>\n",
       "    </tr>\n",
       "  </thead>\n",
       "  <tbody>\n",
       "    <tr>\n",
       "      <th>a</th>\n",
       "      <td>Carlos</td>\n",
       "      <td>35</td>\n",
       "      <td>Araraquara</td>\n",
       "      <td>True</td>\n",
       "      <td>0.0</td>\n",
       "    </tr>\n",
       "    <tr>\n",
       "      <th>b</th>\n",
       "      <td>Pedro</td>\n",
       "      <td>32</td>\n",
       "      <td>Belém</td>\n",
       "      <td>False</td>\n",
       "      <td>100.0</td>\n",
       "    </tr>\n",
       "    <tr>\n",
       "      <th>c</th>\n",
       "      <td>Daniela</td>\n",
       "      <td>15</td>\n",
       "      <td>Natal</td>\n",
       "      <td>False</td>\n",
       "      <td>250.0</td>\n",
       "    </tr>\n",
       "    <tr>\n",
       "      <th>d</th>\n",
       "      <td>Fernanda</td>\n",
       "      <td>49</td>\n",
       "      <td>Curitiba</td>\n",
       "      <td>True</td>\n",
       "      <td>300.0</td>\n",
       "    </tr>\n",
       "  </tbody>\n",
       "</table>\n",
       "</div>"
      ],
      "text/plain": [
       "  Nome do cliente  Idade      Cidade  Transação  Saldo na Loja\n",
       "a          Carlos     35  Araraquara       True            0.0\n",
       "b           Pedro     32       Belém      False          100.0\n",
       "c         Daniela     15       Natal      False          250.0\n",
       "d        Fernanda     49    Curitiba       True          300.0"
      ]
     },
     "execution_count": 36,
     "metadata": {},
     "output_type": "execute_result"
    }
   ],
   "source": [
    "#Alterando os nomes da colunas\n",
    "\n",
    "df.columns=['Nome do cliente','Idade','Cidade','Transação','Saldo na Loja']\n",
    "df"
   ]
  }
 ],
 "metadata": {
  "kernelspec": {
   "display_name": "Python 3 (ipykernel)",
   "language": "python",
   "name": "python3"
  },
  "language_info": {
   "codemirror_mode": {
    "name": "ipython",
    "version": 3
   },
   "file_extension": ".py",
   "mimetype": "text/x-python",
   "name": "python",
   "nbconvert_exporter": "python",
   "pygments_lexer": "ipython3",
   "version": "3.8.10"
  }
 },
 "nbformat": 4,
 "nbformat_minor": 5
}
