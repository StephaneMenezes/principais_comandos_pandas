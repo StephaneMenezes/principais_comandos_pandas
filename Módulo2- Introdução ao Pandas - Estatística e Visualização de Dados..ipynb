{
 "cells": [
  {
   "cell_type": "markdown",
   "id": "a0e873ec",
   "metadata": {},
   "source": [
    "# Informações Estatísticas com Pandas\n"
   ]
  },
  {
   "cell_type": "markdown",
   "id": "fc46dbe2",
   "metadata": {},
   "source": [
    "**UM CIENTISTA DE DADOS NECESSITA DE CONHECIMENTOS SÓLIDOS EM ESTÁTISTICA** \n",
    "\n",
    "PRA CONHECER MELHOR ALGUMAS FUNÇÕES DO PANDAS IREMOS UTILIZAR O DATASET DO PROJETO BIKES[\"http://dl.dropboxusercontent.com/s/yyfeoxqw61o3iel/df_rides.csv\"], QUE DISTRIBUI BICICLETAS EM PONTOS ESTRATÉGICOS DE BRASÍLIA-DF, OFERENCENDO UMA SOLUÇÃO DE TRANSPORTE E CONTRIBUINDO PARA A MOBILIDADE DAS PESSOAS. \n"
   ]
  },
  {
   "cell_type": "markdown",
   "id": "4f3fb1b2",
   "metadata": {},
   "source": [
    "**IMPORTANDO O PANDAS**"
   ]
  },
  {
   "cell_type": "code",
   "execution_count": 2,
   "id": "2f9e51ee",
   "metadata": {},
   "outputs": [],
   "source": [
    "import pandas as pd"
   ]
  },
  {
   "cell_type": "markdown",
   "id": "2d277eeb",
   "metadata": {},
   "source": [
    "**IMPORTANDO O DATASET**"
   ]
  },
  {
   "cell_type": "code",
   "execution_count": 4,
   "id": "6b74443a",
   "metadata": {},
   "outputs": [
    {
     "data": {
      "text/html": [
       "<div>\n",
       "<style scoped>\n",
       "    .dataframe tbody tr th:only-of-type {\n",
       "        vertical-align: middle;\n",
       "    }\n",
       "\n",
       "    .dataframe tbody tr th {\n",
       "        vertical-align: top;\n",
       "    }\n",
       "\n",
       "    .dataframe thead th {\n",
       "        text-align: right;\n",
       "    }\n",
       "</style>\n",
       "<table border=\"1\" class=\"dataframe\">\n",
       "  <thead>\n",
       "    <tr style=\"text-align: right;\">\n",
       "      <th></th>\n",
       "      <th>user_gender</th>\n",
       "      <th>user_birthdate</th>\n",
       "      <th>user_residence</th>\n",
       "      <th>ride_date</th>\n",
       "      <th>time_start</th>\n",
       "      <th>time_end</th>\n",
       "      <th>station_start</th>\n",
       "      <th>station_end</th>\n",
       "      <th>ride_duration</th>\n",
       "      <th>ride_late</th>\n",
       "    </tr>\n",
       "  </thead>\n",
       "  <tbody>\n",
       "    <tr>\n",
       "      <th>0</th>\n",
       "      <td>M</td>\n",
       "      <td>1971-06-08</td>\n",
       "      <td>NaN</td>\n",
       "      <td>2018-01-01</td>\n",
       "      <td>06:05:18</td>\n",
       "      <td>06:21:33</td>\n",
       "      <td>11 - Rodoviária 2</td>\n",
       "      <td>41 - Instituto de Artes</td>\n",
       "      <td>16.250000</td>\n",
       "      <td>0.0</td>\n",
       "    </tr>\n",
       "    <tr>\n",
       "      <th>1</th>\n",
       "      <td>M</td>\n",
       "      <td>1989-02-11</td>\n",
       "      <td>DF</td>\n",
       "      <td>2018-01-01</td>\n",
       "      <td>06:27:01</td>\n",
       "      <td>06:32:17</td>\n",
       "      <td>26 - Ministério da Saude</td>\n",
       "      <td>28 - CNMP - Conselho Nacional do Ministério Pú...</td>\n",
       "      <td>5.266667</td>\n",
       "      <td>0.0</td>\n",
       "    </tr>\n",
       "    <tr>\n",
       "      <th>2</th>\n",
       "      <td>M</td>\n",
       "      <td>1968-07-19</td>\n",
       "      <td>NaN</td>\n",
       "      <td>2018-01-01</td>\n",
       "      <td>06:29:33</td>\n",
       "      <td>06:44:57</td>\n",
       "      <td>11 - Rodoviária 2</td>\n",
       "      <td>43 - Biblioteca Central</td>\n",
       "      <td>15.400000</td>\n",
       "      <td>0.0</td>\n",
       "    </tr>\n",
       "    <tr>\n",
       "      <th>3</th>\n",
       "      <td>M</td>\n",
       "      <td>1991-12-19</td>\n",
       "      <td>NaN</td>\n",
       "      <td>2018-01-01</td>\n",
       "      <td>06:53:53</td>\n",
       "      <td>06:59:45</td>\n",
       "      <td>10 - Ministério dos Transportes</td>\n",
       "      <td>6 - Rodoviária</td>\n",
       "      <td>5.866667</td>\n",
       "      <td>0.0</td>\n",
       "    </tr>\n",
       "    <tr>\n",
       "      <th>4</th>\n",
       "      <td>M</td>\n",
       "      <td>1969-03-03</td>\n",
       "      <td>DF</td>\n",
       "      <td>2018-01-01</td>\n",
       "      <td>06:58:56</td>\n",
       "      <td>17:40:04</td>\n",
       "      <td>15 - Brasil 21</td>\n",
       "      <td>11 - Rodoviária 2</td>\n",
       "      <td>641.133333</td>\n",
       "      <td>1.0</td>\n",
       "    </tr>\n",
       "  </tbody>\n",
       "</table>\n",
       "</div>"
      ],
      "text/plain": [
       "  user_gender user_birthdate user_residence   ride_date time_start  time_end  \\\n",
       "0           M     1971-06-08            NaN  2018-01-01   06:05:18  06:21:33   \n",
       "1           M     1989-02-11             DF  2018-01-01   06:27:01  06:32:17   \n",
       "2           M     1968-07-19            NaN  2018-01-01   06:29:33  06:44:57   \n",
       "3           M     1991-12-19            NaN  2018-01-01   06:53:53  06:59:45   \n",
       "4           M     1969-03-03             DF  2018-01-01   06:58:56  17:40:04   \n",
       "\n",
       "                     station_start  \\\n",
       "0                11 - Rodoviária 2   \n",
       "1         26 - Ministério da Saude   \n",
       "2                11 - Rodoviária 2   \n",
       "3  10 - Ministério dos Transportes   \n",
       "4                   15 - Brasil 21   \n",
       "\n",
       "                                         station_end  ride_duration  ride_late  \n",
       "0                            41 - Instituto de Artes      16.250000        0.0  \n",
       "1  28 - CNMP - Conselho Nacional do Ministério Pú...       5.266667        0.0  \n",
       "2                            43 - Biblioteca Central      15.400000        0.0  \n",
       "3                                     6 - Rodoviária       5.866667        0.0  \n",
       "4                                  11 - Rodoviária 2     641.133333        1.0  "
      ]
     },
     "execution_count": 4,
     "metadata": {},
     "output_type": "execute_result"
    }
   ],
   "source": [
    "df=pd.read_csv(\"http://dl.dropboxusercontent.com/s/yyfeoxqw61o3iel/df_rides.csv\")\n",
    "\n",
    "df.head()"
   ]
  },
  {
   "cell_type": "code",
   "execution_count": 6,
   "id": "f3e51a9f",
   "metadata": {},
   "outputs": [
    {
     "data": {
      "text/plain": [
       "Index(['user_gender', 'user_birthdate', 'user_residence', 'ride_date',\n",
       "       'time_start', 'time_end', 'station_start', 'station_end',\n",
       "       'ride_duration', 'ride_late'],\n",
       "      dtype='object')"
      ]
     },
     "execution_count": 6,
     "metadata": {},
     "output_type": "execute_result"
    }
   ],
   "source": [
    "df.columns"
   ]
  },
  {
   "cell_type": "markdown",
   "id": "5a6b0ab1",
   "metadata": {},
   "source": [
    "**RESUMO DAS INFORMAÇÕES ESTATÍSTICAS**\n",
    "\n",
    "UMA DAS MANEIRAS MAIS SIMPLES DE SE INICIAR UMA ANÁLISE EXPLORATÓRIA DAS VARIÁVEIS NÚMERICAS É UTILIZANDO O COMANDO DESCRIBE()\n",
    "\n",
    "* **count** - quantidade de entradas válidas\n",
    "* **mean** - média dos valores\n",
    "* **std** - desvio padrão\n",
    "* **min** - menor valor da coluna\n",
    "* **25%** - percentil 25\n",
    "* **50%** - percentil 50 (e mediana)\n",
    "* **75%** - percentil 75\n",
    "* **max** - maior valor da coluna\n",
    "\n",
    "É possível identificar de cara colunas com valores ausentes e possíveis **outliers** (por exemplo, olhando o valor da mediana e comparando com valores máximos e mínimos)"
   ]
  },
  {
   "cell_type": "code",
   "execution_count": 8,
   "id": "bc7b7c30",
   "metadata": {},
   "outputs": [
    {
     "data": {
      "text/html": [
       "<div>\n",
       "<style scoped>\n",
       "    .dataframe tbody tr th:only-of-type {\n",
       "        vertical-align: middle;\n",
       "    }\n",
       "\n",
       "    .dataframe tbody tr th {\n",
       "        vertical-align: top;\n",
       "    }\n",
       "\n",
       "    .dataframe thead th {\n",
       "        text-align: right;\n",
       "    }\n",
       "</style>\n",
       "<table border=\"1\" class=\"dataframe\">\n",
       "  <thead>\n",
       "    <tr style=\"text-align: right;\">\n",
       "      <th></th>\n",
       "      <th>ride_duration</th>\n",
       "      <th>ride_late</th>\n",
       "    </tr>\n",
       "  </thead>\n",
       "  <tbody>\n",
       "    <tr>\n",
       "      <th>count</th>\n",
       "      <td>214148.000000</td>\n",
       "      <td>214148.000000</td>\n",
       "    </tr>\n",
       "    <tr>\n",
       "      <th>mean</th>\n",
       "      <td>29.915932</td>\n",
       "      <td>0.098829</td>\n",
       "    </tr>\n",
       "    <tr>\n",
       "      <th>std</th>\n",
       "      <td>58.857297</td>\n",
       "      <td>0.298433</td>\n",
       "    </tr>\n",
       "    <tr>\n",
       "      <th>min</th>\n",
       "      <td>3.000000</td>\n",
       "      <td>0.000000</td>\n",
       "    </tr>\n",
       "    <tr>\n",
       "      <th>25%</th>\n",
       "      <td>8.083333</td>\n",
       "      <td>0.000000</td>\n",
       "    </tr>\n",
       "    <tr>\n",
       "      <th>50%</th>\n",
       "      <td>14.200000</td>\n",
       "      <td>0.000000</td>\n",
       "    </tr>\n",
       "    <tr>\n",
       "      <th>75%</th>\n",
       "      <td>33.766667</td>\n",
       "      <td>0.000000</td>\n",
       "    </tr>\n",
       "    <tr>\n",
       "      <th>max</th>\n",
       "      <td>999.600000</td>\n",
       "      <td>1.000000</td>\n",
       "    </tr>\n",
       "  </tbody>\n",
       "</table>\n",
       "</div>"
      ],
      "text/plain": [
       "       ride_duration      ride_late\n",
       "count  214148.000000  214148.000000\n",
       "mean       29.915932       0.098829\n",
       "std        58.857297       0.298433\n",
       "min         3.000000       0.000000\n",
       "25%         8.083333       0.000000\n",
       "50%        14.200000       0.000000\n",
       "75%        33.766667       0.000000\n",
       "max       999.600000       1.000000"
      ]
     },
     "execution_count": 8,
     "metadata": {},
     "output_type": "execute_result"
    }
   ],
   "source": [
    "df.describe()"
   ]
  },
  {
   "cell_type": "code",
   "execution_count": 11,
   "id": "b24cb18c",
   "metadata": {},
   "outputs": [
    {
     "data": {
      "text/plain": [
       "999.6"
      ]
     },
     "execution_count": 11,
     "metadata": {},
     "output_type": "execute_result"
    }
   ],
   "source": [
    "#Valor Máximo\n",
    "df.ride_duration.max()"
   ]
  },
  {
   "cell_type": "code",
   "execution_count": 14,
   "id": "488a9846",
   "metadata": {},
   "outputs": [
    {
     "data": {
      "text/plain": [
       "3.0"
      ]
     },
     "execution_count": 14,
     "metadata": {},
     "output_type": "execute_result"
    }
   ],
   "source": [
    "#Valor Minimo\n",
    "df.ride_duration.min()"
   ]
  },
  {
   "cell_type": "code",
   "execution_count": 16,
   "id": "b0cdbc63",
   "metadata": {},
   "outputs": [
    {
     "data": {
      "text/plain": [
       "58.85729654164017"
      ]
     },
     "execution_count": 16,
     "metadata": {},
     "output_type": "execute_result"
    }
   ],
   "source": [
    "#Desvio Padrão\n",
    "df.ride_duration.std()"
   ]
  },
  {
   "cell_type": "markdown",
   "id": "49547456",
   "metadata": {},
   "source": [
    "# Visualização de Dados com Pandas"
   ]
  },
  {
   "cell_type": "code",
   "execution_count": 23,
   "id": "6f776e96",
   "metadata": {},
   "outputs": [
    {
     "data": {
      "text/html": [
       "<div>\n",
       "<style scoped>\n",
       "    .dataframe tbody tr th:only-of-type {\n",
       "        vertical-align: middle;\n",
       "    }\n",
       "\n",
       "    .dataframe tbody tr th {\n",
       "        vertical-align: top;\n",
       "    }\n",
       "\n",
       "    .dataframe thead th {\n",
       "        text-align: right;\n",
       "    }\n",
       "</style>\n",
       "<table border=\"1\" class=\"dataframe\">\n",
       "  <thead>\n",
       "    <tr style=\"text-align: right;\">\n",
       "      <th></th>\n",
       "      <th>Open</th>\n",
       "      <th>High</th>\n",
       "      <th>Low</th>\n",
       "      <th>Close</th>\n",
       "      <th>Adj Close</th>\n",
       "      <th>Volume</th>\n",
       "    </tr>\n",
       "    <tr>\n",
       "      <th>Date</th>\n",
       "      <th></th>\n",
       "      <th></th>\n",
       "      <th></th>\n",
       "      <th></th>\n",
       "      <th></th>\n",
       "      <th></th>\n",
       "    </tr>\n",
       "  </thead>\n",
       "  <tbody>\n",
       "    <tr>\n",
       "      <th>2018-09-21</th>\n",
       "      <td>29.730000</td>\n",
       "      <td>30.580000</td>\n",
       "      <td>29.340000</td>\n",
       "      <td>30.580000</td>\n",
       "      <td>28.680056</td>\n",
       "      <td>16301600</td>\n",
       "    </tr>\n",
       "    <tr>\n",
       "      <th>2018-09-24</th>\n",
       "      <td>30.379999</td>\n",
       "      <td>30.700001</td>\n",
       "      <td>29.500000</td>\n",
       "      <td>29.730000</td>\n",
       "      <td>27.882866</td>\n",
       "      <td>13086900</td>\n",
       "    </tr>\n",
       "    <tr>\n",
       "      <th>2018-09-25</th>\n",
       "      <td>29.030001</td>\n",
       "      <td>29.760000</td>\n",
       "      <td>28.809999</td>\n",
       "      <td>29.549999</td>\n",
       "      <td>27.714045</td>\n",
       "      <td>11742900</td>\n",
       "    </tr>\n",
       "    <tr>\n",
       "      <th>2018-09-26</th>\n",
       "      <td>29.650000</td>\n",
       "      <td>29.969999</td>\n",
       "      <td>29.209999</td>\n",
       "      <td>29.450001</td>\n",
       "      <td>27.620264</td>\n",
       "      <td>12842400</td>\n",
       "    </tr>\n",
       "    <tr>\n",
       "      <th>2018-09-27</th>\n",
       "      <td>29.680000</td>\n",
       "      <td>30.299999</td>\n",
       "      <td>29.680000</td>\n",
       "      <td>30.290001</td>\n",
       "      <td>28.408072</td>\n",
       "      <td>8767900</td>\n",
       "    </tr>\n",
       "  </tbody>\n",
       "</table>\n",
       "</div>"
      ],
      "text/plain": [
       "                 Open       High        Low      Close  Adj Close    Volume\n",
       "Date                                                                       \n",
       "2018-09-21  29.730000  30.580000  29.340000  30.580000  28.680056  16301600\n",
       "2018-09-24  30.379999  30.700001  29.500000  29.730000  27.882866  13086900\n",
       "2018-09-25  29.030001  29.760000  28.809999  29.549999  27.714045  11742900\n",
       "2018-09-26  29.650000  29.969999  29.209999  29.450001  27.620264  12842400\n",
       "2018-09-27  29.680000  30.299999  29.680000  30.290001  28.408072   8767900"
      ]
     },
     "execution_count": 23,
     "metadata": {},
     "output_type": "execute_result"
    }
   ],
   "source": [
    "df=pd.read_csv('https://raw.githubusercontent.com/carlosfab/curso_data_science_na_pratica/master/modulo_02/BBAS3.SA.csv',\n",
    "              parse_dates=True, index_col='Date') \n",
    "\n",
    "#parse_dates=True, index_col='Date' = Estamos utilizando a Data como o Index \n",
    "\n",
    "df.head()"
   ]
  },
  {
   "cell_type": "markdown",
   "id": "9ad4f7f2",
   "metadata": {},
   "source": [
    "**GRÁFICO DE LINHAS**"
   ]
  },
  {
   "cell_type": "code",
   "execution_count": 28,
   "id": "15dd3789",
   "metadata": {},
   "outputs": [
    {
     "data": {
      "image/png": "[encoded data removed]",
      "text/plain": [
       "<Figure size 432x288 with 1 Axes>"
      ]
     },
     "metadata": {
      "needs_background": "light"
     },
     "output_type": "display_data"
    }
   ],
   "source": [
    "df['High'].plot();"
   ]
  },
  {
   "cell_type": "markdown",
   "id": "57b65134",
   "metadata": {},
   "source": [
    "**HISTOGRAMA**\n",
    "\n",
    "UTILIZADO QUANDO SE QUER TER UMA NOÇÃO DE QUANTAS VEZES UMA DETERMINADA INFORMAÇÃO APARECE NO CONJUNTO DE DADOS, PLOTAR O HISTÓGRAMA PODE SER DE GRANDE VALOR. \n",
    "HISTOGRAMA SÃO UMA DAS PRINCIPAIS FERRAMENTAS DE ESTATÍSTICAS PARA EXTRAIR INFORMAÇÕES SOBRE FREQUÊNCIA E DISTRIBUIÇÃO DOS NOSSOS DADOS. ELE É CONCEITUALMENTE BEM SIMPLES. "
   ]
  },
  {
   "cell_type": "code",
   "execution_count": 31,
   "id": "7f318446",
   "metadata": {},
   "outputs": [
    {
     "data": {
      "image/png": "[encoded data removed]",
      "text/plain": [
       "<Figure size 432x288 with 1 Axes>"
      ]
     },
     "metadata": {
      "needs_background": "light"
     },
     "output_type": "display_data"
    }
   ],
   "source": [
    "df.Volume.hist();"
   ]
  },
  {
   "cell_type": "markdown",
   "id": "84ad5d07",
   "metadata": {},
   "source": [
    "**GRÁFICO DE DISPERSÃO**\n",
    "\n",
    "O GRÁFICO DE DISPERSÃO É MUITO UTILIZADO QUANDO DESEJAMOS VER A CORRELAÇÃO ENTRE DUAS VARIAVEIS QUAISQUER. \n",
    "\n",
    "NÃO SÓ MOSTRA QUANTO UMA VARIAVÉL É AFETADA POR OUTRA, MAS TAMBÉM PARA PLOTAR COORDENADAS GEOGRÁFICAS. "
   ]
  },
  {
   "cell_type": "code",
   "execution_count": 33,
   "id": "3a76318f",
   "metadata": {},
   "outputs": [
    {
     "data": {
      "image/png": "[encoded data removed]",
      "text/plain": [
       "<Figure size 432x288 with 1 Axes>"
      ]
     },
     "metadata": {
      "needs_background": "light"
     },
     "output_type": "display_data"
    }
   ],
   "source": [
    "df.plot.scatter('Low','High'); #Observe que nos exemplos anteriores nós informamos apenas uma coluna, nas dispersão iremos informar duas colunas pois é baseada no plano cartesiano de x,y.\n"
   ]
  },
  {
   "cell_type": "markdown",
   "id": "4faa21fe",
   "metadata": {},
   "source": [
    "**BOXPLOT** \n",
    "\n",
    "Muitas vezes ao realizarmos uma análise de dados, nos deparamos com outliers, outliers são valores aberrantes, um valor atípico que apresenta um grande afastamentos dos demais valores, um bom recurso para confirmar ou verificar a presença desses valores é utilizando o famoso BoxPlot. \n",
    "O Boxplot ou diagrama de caixa é uma ferramenta gráfica que permite visualizar os valores discrepantes, permitindo-nos analisar a qualidade dos dados. "
   ]
  },
  {
   "cell_type": "code",
   "execution_count": 36,
   "id": "54bdaf01",
   "metadata": {},
   "outputs": [
    {
     "data": {
      "image/png": "[encoded data removed]",
      "text/plain": [
       "<Figure size 432x288 with 1 Axes>"
      ]
     },
     "metadata": {
      "needs_background": "light"
     },
     "output_type": "display_data"
    }
   ],
   "source": [
    "df.High.plot(kind=\"box\");"
   ]
  }
 ],
 "metadata": {
  "kernelspec": {
   "display_name": "Python 3 (ipykernel)",
   "language": "python",
   "name": "python3"
  },
  "language_info": {
   "codemirror_mode": {
    "name": "ipython",
    "version": 3
   },
   "file_extension": ".py",
   "mimetype": "text/x-python",
   "name": "python",
   "nbconvert_exporter": "python",
   "pygments_lexer": "ipython3",
   "version": "3.8.10"
  }
 },
 "nbformat": 4,
 "nbformat_minor": 5
}
