{
 "cells": [
  {
   "cell_type": "code",
   "execution_count": 3,
   "id": "e62785d4",
   "metadata": {},
   "outputs": [
    {
     "data": {
      "text/html": [
       "<div>\n",
       "<style scoped>\n",
       "    .dataframe tbody tr th:only-of-type {\n",
       "        vertical-align: middle;\n",
       "    }\n",
       "\n",
       "    .dataframe tbody tr th {\n",
       "        vertical-align: top;\n",
       "    }\n",
       "\n",
       "    .dataframe thead th {\n",
       "        text-align: right;\n",
       "    }\n",
       "</style>\n",
       "<table border=\"1\" class=\"dataframe\">\n",
       "  <thead>\n",
       "    <tr style=\"text-align: right;\">\n",
       "      <th></th>\n",
       "      <th>user_gender</th>\n",
       "      <th>user_birthdate</th>\n",
       "      <th>user_residence</th>\n",
       "      <th>ride_date</th>\n",
       "      <th>time_start</th>\n",
       "      <th>time_end</th>\n",
       "      <th>station_start</th>\n",
       "      <th>station_end</th>\n",
       "      <th>ride_duration</th>\n",
       "      <th>ride_late</th>\n",
       "    </tr>\n",
       "  </thead>\n",
       "  <tbody>\n",
       "    <tr>\n",
       "      <th>0</th>\n",
       "      <td>M</td>\n",
       "      <td>1971-06-08</td>\n",
       "      <td>NaN</td>\n",
       "      <td>2018-01-01</td>\n",
       "      <td>06:05:18</td>\n",
       "      <td>06:21:33</td>\n",
       "      <td>11 - Rodoviária 2</td>\n",
       "      <td>41 - Instituto de Artes</td>\n",
       "      <td>16.250000</td>\n",
       "      <td>0.0</td>\n",
       "    </tr>\n",
       "    <tr>\n",
       "      <th>1</th>\n",
       "      <td>M</td>\n",
       "      <td>1989-02-11</td>\n",
       "      <td>DF</td>\n",
       "      <td>2018-01-01</td>\n",
       "      <td>06:27:01</td>\n",
       "      <td>06:32:17</td>\n",
       "      <td>26 - Ministério da Saude</td>\n",
       "      <td>28 - CNMP - Conselho Nacional do Ministério Pú...</td>\n",
       "      <td>5.266667</td>\n",
       "      <td>0.0</td>\n",
       "    </tr>\n",
       "    <tr>\n",
       "      <th>2</th>\n",
       "      <td>M</td>\n",
       "      <td>1968-07-19</td>\n",
       "      <td>NaN</td>\n",
       "      <td>2018-01-01</td>\n",
       "      <td>06:29:33</td>\n",
       "      <td>06:44:57</td>\n",
       "      <td>11 - Rodoviária 2</td>\n",
       "      <td>43 - Biblioteca Central</td>\n",
       "      <td>15.400000</td>\n",
       "      <td>0.0</td>\n",
       "    </tr>\n",
       "    <tr>\n",
       "      <th>3</th>\n",
       "      <td>M</td>\n",
       "      <td>1991-12-19</td>\n",
       "      <td>NaN</td>\n",
       "      <td>2018-01-01</td>\n",
       "      <td>06:53:53</td>\n",
       "      <td>06:59:45</td>\n",
       "      <td>10 - Ministério dos Transportes</td>\n",
       "      <td>6 - Rodoviária</td>\n",
       "      <td>5.866667</td>\n",
       "      <td>0.0</td>\n",
       "    </tr>\n",
       "    <tr>\n",
       "      <th>4</th>\n",
       "      <td>M</td>\n",
       "      <td>1969-03-03</td>\n",
       "      <td>DF</td>\n",
       "      <td>2018-01-01</td>\n",
       "      <td>06:58:56</td>\n",
       "      <td>17:40:04</td>\n",
       "      <td>15 - Brasil 21</td>\n",
       "      <td>11 - Rodoviária 2</td>\n",
       "      <td>641.133333</td>\n",
       "      <td>1.0</td>\n",
       "    </tr>\n",
       "  </tbody>\n",
       "</table>\n",
       "</div>"
      ],
      "text/plain": [
       "  user_gender user_birthdate user_residence   ride_date time_start  time_end  \\\n",
       "0           M     1971-06-08            NaN  2018-01-01   06:05:18  06:21:33   \n",
       "1           M     1989-02-11             DF  2018-01-01   06:27:01  06:32:17   \n",
       "2           M     1968-07-19            NaN  2018-01-01   06:29:33  06:44:57   \n",
       "3           M     1991-12-19            NaN  2018-01-01   06:53:53  06:59:45   \n",
       "4           M     1969-03-03             DF  2018-01-01   06:58:56  17:40:04   \n",
       "\n",
       "                     station_start  \\\n",
       "0                11 - Rodoviária 2   \n",
       "1         26 - Ministério da Saude   \n",
       "2                11 - Rodoviária 2   \n",
       "3  10 - Ministério dos Transportes   \n",
       "4                   15 - Brasil 21   \n",
       "\n",
       "                                         station_end  ride_duration  ride_late  \n",
       "0                            41 - Instituto de Artes      16.250000        0.0  \n",
       "1  28 - CNMP - Conselho Nacional do Ministério Pú...       5.266667        0.0  \n",
       "2                            43 - Biblioteca Central      15.400000        0.0  \n",
       "3                                     6 - Rodoviária       5.866667        0.0  \n",
       "4                                  11 - Rodoviária 2     641.133333        1.0  "
      ]
     },
     "execution_count": 3,
     "metadata": {},
     "output_type": "execute_result"
    }
   ],
   "source": [
    "\n",
    "#Importando as bibliotecas\n",
    "import pandas as pd\n",
    "\n",
    "#Importando os dados:\n",
    "df =pd.read_csv(\"http://dl.dropboxusercontent.com/s/yyfeoxqw61o3iel/df_rides.csv\")\n",
    "\n",
    "#Visualizando os cinco primeiros dados\n",
    "df.head()"
   ]
  },
  {
   "cell_type": "code",
   "execution_count": 6,
   "id": "5ae1e396",
   "metadata": {},
   "outputs": [
    {
     "data": {
      "text/plain": [
       "user_gender          396\n",
       "user_birthdate         1\n",
       "user_residence    179905\n",
       "ride_date              0\n",
       "time_start             0\n",
       "time_end           43285\n",
       "station_start          0\n",
       "station_end            0\n",
       "ride_duration      73174\n",
       "ride_late          73174\n",
       "dtype: int64"
      ]
     },
     "execution_count": 6,
     "metadata": {},
     "output_type": "execute_result"
    }
   ],
   "source": [
    "#Identificando os valores ausentes:\n",
    "\n",
    "#O isnull vai retornar todos os valores nulos e sum vai somar esses valores para cada coluna:\n",
    "df.isnull().sum()"
   ]
  },
  {
   "cell_type": "code",
   "execution_count": 7,
   "id": "e926c103",
   "metadata": {},
   "outputs": [
    {
     "data": {
      "text/plain": [
       "user_gender       0.001378\n",
       "user_birthdate    0.000003\n",
       "user_residence    0.626144\n",
       "ride_date         0.000000\n",
       "time_start        0.000000\n",
       "time_end          0.150650\n",
       "station_start     0.000000\n",
       "station_end       0.000000\n",
       "ride_duration     0.254676\n",
       "ride_late         0.254676\n",
       "dtype: float64"
      ]
     },
     "execution_count": 7,
     "metadata": {},
     "output_type": "execute_result"
    }
   ],
   "source": [
    "#Verificando qual a porcentagem de valores ausentes no nosso dataset:\n",
    "df.isnull().sum()/df.shape[0]"
   ]
  },
  {
   "cell_type": "code",
   "execution_count": 8,
   "id": "eaa42884",
   "metadata": {},
   "outputs": [
    {
     "data": {
      "text/html": [
       "<div>\n",
       "<style scoped>\n",
       "    .dataframe tbody tr th:only-of-type {\n",
       "        vertical-align: middle;\n",
       "    }\n",
       "\n",
       "    .dataframe tbody tr th {\n",
       "        vertical-align: top;\n",
       "    }\n",
       "\n",
       "    .dataframe thead th {\n",
       "        text-align: right;\n",
       "    }\n",
       "</style>\n",
       "<table border=\"1\" class=\"dataframe\">\n",
       "  <thead>\n",
       "    <tr style=\"text-align: right;\">\n",
       "      <th></th>\n",
       "      <th>user_gender</th>\n",
       "      <th>user_birthdate</th>\n",
       "      <th>user_residence</th>\n",
       "      <th>ride_date</th>\n",
       "      <th>time_start</th>\n",
       "      <th>time_end</th>\n",
       "      <th>station_start</th>\n",
       "      <th>station_end</th>\n",
       "      <th>ride_duration</th>\n",
       "      <th>ride_late</th>\n",
       "    </tr>\n",
       "  </thead>\n",
       "  <tbody>\n",
       "    <tr>\n",
       "      <th>0</th>\n",
       "      <td>M</td>\n",
       "      <td>1971-06-08</td>\n",
       "      <td>NaN</td>\n",
       "      <td>2018-01-01</td>\n",
       "      <td>06:05:18</td>\n",
       "      <td>06:21:33</td>\n",
       "      <td>11 - Rodoviária 2</td>\n",
       "      <td>41 - Instituto de Artes</td>\n",
       "      <td>16.250000</td>\n",
       "      <td>0.0</td>\n",
       "    </tr>\n",
       "    <tr>\n",
       "      <th>1</th>\n",
       "      <td>M</td>\n",
       "      <td>1989-02-11</td>\n",
       "      <td>DF</td>\n",
       "      <td>2018-01-01</td>\n",
       "      <td>06:27:01</td>\n",
       "      <td>06:32:17</td>\n",
       "      <td>26 - Ministério da Saude</td>\n",
       "      <td>28 - CNMP - Conselho Nacional do Ministério Pú...</td>\n",
       "      <td>5.266667</td>\n",
       "      <td>0.0</td>\n",
       "    </tr>\n",
       "    <tr>\n",
       "      <th>2</th>\n",
       "      <td>M</td>\n",
       "      <td>1968-07-19</td>\n",
       "      <td>NaN</td>\n",
       "      <td>2018-01-01</td>\n",
       "      <td>06:29:33</td>\n",
       "      <td>06:44:57</td>\n",
       "      <td>11 - Rodoviária 2</td>\n",
       "      <td>43 - Biblioteca Central</td>\n",
       "      <td>15.400000</td>\n",
       "      <td>0.0</td>\n",
       "    </tr>\n",
       "    <tr>\n",
       "      <th>3</th>\n",
       "      <td>M</td>\n",
       "      <td>1991-12-19</td>\n",
       "      <td>NaN</td>\n",
       "      <td>2018-01-01</td>\n",
       "      <td>06:53:53</td>\n",
       "      <td>06:59:45</td>\n",
       "      <td>10 - Ministério dos Transportes</td>\n",
       "      <td>6 - Rodoviária</td>\n",
       "      <td>5.866667</td>\n",
       "      <td>0.0</td>\n",
       "    </tr>\n",
       "    <tr>\n",
       "      <th>4</th>\n",
       "      <td>M</td>\n",
       "      <td>1969-03-03</td>\n",
       "      <td>DF</td>\n",
       "      <td>2018-01-01</td>\n",
       "      <td>06:58:56</td>\n",
       "      <td>17:40:04</td>\n",
       "      <td>15 - Brasil 21</td>\n",
       "      <td>11 - Rodoviária 2</td>\n",
       "      <td>641.133333</td>\n",
       "      <td>1.0</td>\n",
       "    </tr>\n",
       "  </tbody>\n",
       "</table>\n",
       "</div>"
      ],
      "text/plain": [
       "  user_gender user_birthdate user_residence   ride_date time_start  time_end  \\\n",
       "0           M     1971-06-08            NaN  2018-01-01   06:05:18  06:21:33   \n",
       "1           M     1989-02-11             DF  2018-01-01   06:27:01  06:32:17   \n",
       "2           M     1968-07-19            NaN  2018-01-01   06:29:33  06:44:57   \n",
       "3           M     1991-12-19            NaN  2018-01-01   06:53:53  06:59:45   \n",
       "4           M     1969-03-03             DF  2018-01-01   06:58:56  17:40:04   \n",
       "\n",
       "                     station_start  \\\n",
       "0                11 - Rodoviária 2   \n",
       "1         26 - Ministério da Saude   \n",
       "2                11 - Rodoviária 2   \n",
       "3  10 - Ministério dos Transportes   \n",
       "4                   15 - Brasil 21   \n",
       "\n",
       "                                         station_end  ride_duration  ride_late  \n",
       "0                            41 - Instituto de Artes      16.250000        0.0  \n",
       "1  28 - CNMP - Conselho Nacional do Ministério Pú...       5.266667        0.0  \n",
       "2                            43 - Biblioteca Central      15.400000        0.0  \n",
       "3                                     6 - Rodoviária       5.866667        0.0  \n",
       "4                                  11 - Rodoviária 2     641.133333        1.0  "
      ]
     },
     "execution_count": 8,
     "metadata": {},
     "output_type": "execute_result"
    }
   ],
   "source": [
    "#Excluindo os valores ausentes: \n",
    "\n",
    "df_row_dropna = df.dropna(subset=['user_gender'], axis = 0)\n",
    "\n",
    "df_row_dropna.head()"
   ]
  },
  {
   "cell_type": "code",
   "execution_count": 9,
   "id": "5d32276e",
   "metadata": {},
   "outputs": [
    {
     "data": {
      "text/html": [
       "<div>\n",
       "<style scoped>\n",
       "    .dataframe tbody tr th:only-of-type {\n",
       "        vertical-align: middle;\n",
       "    }\n",
       "\n",
       "    .dataframe tbody tr th {\n",
       "        vertical-align: top;\n",
       "    }\n",
       "\n",
       "    .dataframe thead th {\n",
       "        text-align: right;\n",
       "    }\n",
       "</style>\n",
       "<table border=\"1\" class=\"dataframe\">\n",
       "  <thead>\n",
       "    <tr style=\"text-align: right;\">\n",
       "      <th></th>\n",
       "      <th>user_gender</th>\n",
       "      <th>user_birthdate</th>\n",
       "      <th>user_residence</th>\n",
       "      <th>ride_date</th>\n",
       "      <th>time_start</th>\n",
       "      <th>time_end</th>\n",
       "      <th>station_start</th>\n",
       "      <th>station_end</th>\n",
       "      <th>ride_duration</th>\n",
       "      <th>ride_late</th>\n",
       "    </tr>\n",
       "  </thead>\n",
       "  <tbody>\n",
       "    <tr>\n",
       "      <th>1</th>\n",
       "      <td>M</td>\n",
       "      <td>1989-02-11</td>\n",
       "      <td>DF</td>\n",
       "      <td>2018-01-01</td>\n",
       "      <td>06:27:01</td>\n",
       "      <td>06:32:17</td>\n",
       "      <td>26 - Ministério da Saude</td>\n",
       "      <td>28 - CNMP - Conselho Nacional do Ministério Pú...</td>\n",
       "      <td>5.266667</td>\n",
       "      <td>0.0</td>\n",
       "    </tr>\n",
       "    <tr>\n",
       "      <th>4</th>\n",
       "      <td>M</td>\n",
       "      <td>1969-03-03</td>\n",
       "      <td>DF</td>\n",
       "      <td>2018-01-01</td>\n",
       "      <td>06:58:56</td>\n",
       "      <td>17:40:04</td>\n",
       "      <td>15 - Brasil 21</td>\n",
       "      <td>11 - Rodoviária 2</td>\n",
       "      <td>641.133333</td>\n",
       "      <td>1.0</td>\n",
       "    </tr>\n",
       "    <tr>\n",
       "      <th>7</th>\n",
       "      <td>M</td>\n",
       "      <td>1994-11-19</td>\n",
       "      <td>DF</td>\n",
       "      <td>2018-01-01</td>\n",
       "      <td>07:17:34</td>\n",
       "      <td>07:25:05</td>\n",
       "      <td>5 - Setor Hoteleiro Norte</td>\n",
       "      <td>10 - Ministério dos Transportes</td>\n",
       "      <td>7.516667</td>\n",
       "      <td>0.0</td>\n",
       "    </tr>\n",
       "    <tr>\n",
       "      <th>10</th>\n",
       "      <td>M</td>\n",
       "      <td>1995-08-26</td>\n",
       "      <td>DF</td>\n",
       "      <td>2018-01-01</td>\n",
       "      <td>07:31:59</td>\n",
       "      <td>08:15:24</td>\n",
       "      <td>2 - Praça Buriti</td>\n",
       "      <td>14 - Brasília Shopping</td>\n",
       "      <td>43.416667</td>\n",
       "      <td>0.0</td>\n",
       "    </tr>\n",
       "    <tr>\n",
       "      <th>12</th>\n",
       "      <td>F</td>\n",
       "      <td>1993-02-14</td>\n",
       "      <td>DF</td>\n",
       "      <td>2018-01-01</td>\n",
       "      <td>08:14:49</td>\n",
       "      <td>08:38:05</td>\n",
       "      <td>8 - Ministério da Defesa</td>\n",
       "      <td>4 - Torre de TV</td>\n",
       "      <td>23.266667</td>\n",
       "      <td>0.0</td>\n",
       "    </tr>\n",
       "  </tbody>\n",
       "</table>\n",
       "</div>"
      ],
      "text/plain": [
       "   user_gender user_birthdate user_residence   ride_date time_start  time_end  \\\n",
       "1            M     1989-02-11             DF  2018-01-01   06:27:01  06:32:17   \n",
       "4            M     1969-03-03             DF  2018-01-01   06:58:56  17:40:04   \n",
       "7            M     1994-11-19             DF  2018-01-01   07:17:34  07:25:05   \n",
       "10           M     1995-08-26             DF  2018-01-01   07:31:59  08:15:24   \n",
       "12           F     1993-02-14             DF  2018-01-01   08:14:49  08:38:05   \n",
       "\n",
       "                station_start  \\\n",
       "1    26 - Ministério da Saude   \n",
       "4              15 - Brasil 21   \n",
       "7   5 - Setor Hoteleiro Norte   \n",
       "10           2 - Praça Buriti   \n",
       "12   8 - Ministério da Defesa   \n",
       "\n",
       "                                          station_end  ride_duration  \\\n",
       "1   28 - CNMP - Conselho Nacional do Ministério Pú...       5.266667   \n",
       "4                                   11 - Rodoviária 2     641.133333   \n",
       "7                     10 - Ministério dos Transportes       7.516667   \n",
       "10                             14 - Brasília Shopping      43.416667   \n",
       "12                                    4 - Torre de TV      23.266667   \n",
       "\n",
       "    ride_late  \n",
       "1         0.0  \n",
       "4         1.0  \n",
       "7         0.0  \n",
       "10        0.0  \n",
       "12        0.0  "
      ]
     },
     "execution_count": 9,
     "metadata": {},
     "output_type": "execute_result"
    }
   ],
   "source": [
    "#Excluindo os valores ausentes: \n",
    "\n",
    "df_row_dropna = df.dropna(subset=['user_residence'], axis = 0)\n",
    "\n",
    "df_row_dropna.head()"
   ]
  },
  {
   "cell_type": "markdown",
   "id": "50f3636a",
   "metadata": {},
   "source": [
    "**PREENCHER VALORES**\n",
    "ESTA PROVAVELMENTE É A MELHOR OPÇÃO PARA SE TRABALHAR COM VALORES AUSENTES, POIS NOS PERMITE MANTER OS DADOS DAS OUTRAS CÉLULAS. POIS AQUI PODEMOS SUBSTITUIR OS VALORES AUSENTES, **ESSA SUBSTITUIÇÃO VAI DEPENDER DA ESTRUTURA E DA FINALIDADE DO NOSSO DATASET.**"
   ]
  },
  {
   "cell_type": "code",
   "execution_count": 13,
   "id": "247eee30",
   "metadata": {},
   "outputs": [
    {
     "data": {
      "text/plain": [
       "0"
      ]
     },
     "execution_count": 13,
     "metadata": {},
     "output_type": "execute_result"
    }
   ],
   "source": [
    "#Neste exemplo iremos substituir os valores ausentes em ride_duration pela mediana dos outros valores\n",
    "#...nos permitindo assim, tem um valor aproximado. **ESSA APLICAÇÃO É UMA BOA OPÇÃO PARA ESSE DATASET EM QUESTÃO.**\n",
    "ride_duration_median=df.ride_duration.median()\n",
    "df.ride_duration.fillna(ride_duration_median, inplace=True)\n",
    "\n",
    "#Ver a quantidade de valores ausentes.\n",
    "df.ride_duration.isnull().sum()\n"
   ]
  },
  {
   "cell_type": "markdown",
   "id": "0190da07",
   "metadata": {},
   "source": [
    "**QUANDO NOS TEMOS UMA COLUNA CATEGÓRICA, PODEMOS UTILIZAR O VALOR QUE APARECE DE FORMA MAIS FREQUENTE NO NOSSO DATASET E USAR ELE PÁRA PREENCHER OS DEMAIS VALORES**"
   ]
  },
  {
   "cell_type": "code",
   "execution_count": 17,
   "id": "99f91ea5",
   "metadata": {},
   "outputs": [
    {
     "data": {
      "text/plain": [
       "M    212608\n",
       "F     74318\n",
       "Name: user_gender, dtype: int64"
      ]
     },
     "execution_count": 17,
     "metadata": {},
     "output_type": "execute_result"
    }
   ],
   "source": [
    "df.user_gender.value_counts()\n",
    "#O valor M é o que mais aparece em nossa coluna de genero, então: "
   ]
  },
  {
   "cell_type": "code",
   "execution_count": 19,
   "id": "5650ca30",
   "metadata": {},
   "outputs": [
    {
     "data": {
      "text/plain": [
       "396"
      ]
     },
     "execution_count": 19,
     "metadata": {},
     "output_type": "execute_result"
    }
   ],
   "source": [
    "#Ver a quantidade de valores ausentes.\n",
    "df.user_gender.isnull().sum()\n"
   ]
  },
  {
   "cell_type": "code",
   "execution_count": 20,
   "id": "b823bb32",
   "metadata": {},
   "outputs": [
    {
     "data": {
      "text/plain": [
       "0"
      ]
     },
     "execution_count": 20,
     "metadata": {},
     "output_type": "execute_result"
    }
   ],
   "source": [
    "#Substituindo valores nulos por M\n",
    "df.user_gender.fillna('M',inplace=True)\n",
    "\n",
    "#Visualizando valores nulos\n",
    "df.user_gender.isnull().sum()"
   ]
  }
 ],
 "metadata": {
  "kernelspec": {
   "display_name": "Python 3 (ipykernel)",
   "language": "python",
   "name": "python3"
  },
  "language_info": {
   "codemirror_mode": {
    "name": "ipython",
    "version": 3
   },
   "file_extension": ".py",
   "mimetype": "text/x-python",
   "name": "python",
   "nbconvert_exporter": "python",
   "pygments_lexer": "ipython3",
   "version": "3.8.10"
  }
 },
 "nbformat": 4,
 "nbformat_minor": 5
}
